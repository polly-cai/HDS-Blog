{
  "cells": [
    {
      "cell_type": "markdown",
      "metadata": {
        "id": "view-in-github",
        "colab_type": "text"
      },
      "source": [
        "<a href=\"https://colab.research.google.com/github/polly-cai/HDS-Blog/blob/main/Final_Assignment_polly_cai.ipynb\" target=\"_parent\"><img src=\"https://colab.research.google.com/assets/colab-badge.svg\" alt=\"Open In Colab\"/></a>"
      ]
    },
    {
      "cell_type": "markdown",
      "metadata": {
        "id": "1GNrOr-WiKQW"
      },
      "source": [
        "![alt text](https://drive.google.com/uc?export=view&id=1DXUVHxd4t15mfuqMgMCLnsP4jWVI5EWz)\n",
        "\n",
        "---\n",
        "\n",
        "<br>\n",
        "© 2022 Copyright The University of New South Wales - CRICOS 00098G\n",
        "\n",
        "**Authors**: Oscar Perez-Concha and Zhisheng (Sandy) Sa.\n",
        "\n",
        "**Communications**: If you have any questions, please email Oscar and Sandy at: o.perezconcha@unsw.edu.au and z.sa@unsw.edu.au\n",
        "\n",
        "**Please use email exclusively for communication with us regarding this assignment.**"
      ]
    },
    {
      "cell_type": "markdown",
      "source": [
        "# Final Assignment "
      ],
      "metadata": {
        "id": "N6T0wwT_GozJ"
      }
    },
    {
      "cell_type": "markdown",
      "source": [
        "\n",
        "\n",
        "---\n",
        "\n"
      ],
      "metadata": {
        "id": "R1skKevpG0jB"
      }
    },
    {
      "cell_type": "markdown",
      "source": [
        ""
      ],
      "metadata": {
        "id": "QmhnQ1KbGY0B"
      }
    },
    {
      "cell_type": "markdown",
      "metadata": {
        "id": "fN4p9w5eiKQY"
      },
      "source": [
        "#####################################################################################\n",
        "\n",
        "\n",
        "**Name and Surname: Polly Cai**\n",
        "\n",
        "**Honour Pledge** <p>\n",
        "    \n",
        "    \n",
        "Declaration: <p>\n",
        "    \n",
        "    \n",
        "I declare that this assessment item is my own work, except where acknowledged, and has not been submitted for academic credit elsewhere or previously, or produced independently of this course (e.g. for a third party such as your place of employment) and acknowledge that the assessor of this item may, for the purpose of assessing this item: \n",
        "\n",
        "1. Reproduce this assessment item and provide a copy to another member of the University; and/or \n",
        "\n",
        "2. Communicate a copy of this assessment item to a plagiarism checking service (which may then retain a copy of the assessment item on its database for the purpose of future plagiarism checking). \n",
        "\n",
        "#####################################################################################"
      ]
    },
    {
      "cell_type": "markdown",
      "source": [
        "---\n",
        "# 1.  Health Data Science Scenario\n",
        " \n",
        "## 1a. Research Question\n",
        "\n",
        "Our hospital has been very proactive in terms of analysing data of its electronic medical record (EMR). By analysing the data, they have made very interesing discoveries:\n",
        "\n",
        "1. They identified that readmitted patients are not only those who were sicker in the first admission, but those who had less support at home after discharge or those patients that did not have a medical follow-up after discharge.\n",
        "2. Readmitted patients experienced high levels of emotional stress.\n",
        "3. Readmitted patients were at much higher risk of acquiring new infections while at hospital.\n",
        "4. Readmissions are highly costly. Patients that were readmitted for the reasons cited above tended to be sicker than they were when they were first admitted and their length of stay was significantly longer than their first admission.\n",
        "\n",
        "Our hospital has trialed a \"specialised unit\" that coordinates the patient's discharge. A team of nurses and OTs visit the patient's home after discharge. The frequency of the visits depends upon an assessment made before discharge, but the average number of visits is 5 across the board. Amongst other things, they make sure that the wounds are healing properly, medication is taken, that there is coordination with a GP in place and basic daily activities can be done, such as moving around their home, toilet, cooking, ...\n",
        "In addition, the specialised unit regularly contacts the patients via telephone to check that everything is going well. The patients can also contact the specialised unit if they need any help. \n",
        "\n",
        "This pilot has drastically reduced the number of readmissions. \n",
        "\n",
        "In addition, the cost of operating the specialised unit was much cheaper than the cost of readmissions.\n",
        "\n",
        "In terms of budget:\n",
        "1. A day in hospital costs 5,000 dollars per day on average; readmitted patients tend to stay an average of 4 days.\n",
        "2. A home visit of the specialised unit costs 400 dollars; the average number of visits is 5. \n",
        "3. No targeted patients: 0 dollars\n",
        "\n",
        "Our hospital is now ready to roll out and implement the specialised unit service to all patients at risk for readmission. \n",
        "The problem is that a priori, they do not know which patients are at risk of readmission. Thus, they do not know the patients they should be targeting.\n",
        "\n",
        "\n",
        "<b><font color=green>Goal/Research Question: </font>\n",
        "1. The hospital needs a machine learning algorithm to predict which patients should participate in this intervention. The prediction will be done just before discharge. They are hiring you to build this algorithm.\n",
        "\n",
        "2. You will need to explain to the hospital managers the performance of your algoritm, so they can make an informed decision whether to use your algorithm or not."
      ],
      "metadata": {
        "id": "PlVCjmaWCpzF"
      }
    },
    {
      "cell_type": "markdown",
      "source": [
        "\n",
        "\n",
        "---\n",
        "\n"
      ],
      "metadata": {
        "id": "k_dDoHDsl9X2"
      }
    },
    {
      "cell_type": "markdown",
      "source": [
        "## 1b. Instructions\n",
        "\n",
        "1. We are going to deliver one predictive model to predict readmission to hospital within 30 days of discharge. \n",
        "\n",
        "2. Check and study the data provided. Read the data dictionary carefully and check again the plots and graphs created in the exercises corresponding to weeks 1, 2 and 3. \n",
        "\n",
        "3. Since the data have been already provided by the hospital, we are going to skip the next steps of the health data science workflow (see image below). \n",
        "  - Step 3 and substeps 3a,3b,3c,3d,3e: Data Gathering.\n",
        "\n",
        "4. Step 4, substep 4a: Data visualization. Visualize the data in your draft, but do not include the graphs in the final submission.\n",
        "\n",
        "5. The hospital wants the model to capture as many \"readmissions\" as posible (true positives) even at the expense of <font color='green'><b> moderately</b> </font> increasing the number of false positives <font color='green'><b>  within reason</b></font> (that is, patients that are not at risk of readmission that are classified as readmission). \n",
        "\n",
        "6. Nevertheless, we must take into account that the hospital does not have unlimited resources, so they cannot considered a high number of patients at risk of readmission because the cost of the \"specialised unit\" would be very high.  \n",
        "\n",
        "7. You will design several machine learning algorithms, choose one, and give a rationale explaining why you choose that algorithm. \n",
        "\n",
        "    * Build some predictive models to predict readmission to hospital within 30 days of discharge using:  \n",
        "        *  'Logistic Regression Classifiers' \n",
        "        * 'Random Forest Classifier'. \n",
        "        \n",
        "8. Use the `classification_report` and confusion matrix metrics to evaluate your models. If you use other metrics, such as the ROC curve, do not include them in the final submission.\n",
        "\n",
        "9. <b> Very Important: Justify your decisions and why they were made in the space provided.</b>   Write <b>one or two sentences</b> for each section before each block of Python code with the description of what the blocks do; explanations must be clear; no “sanity checks” (although these checks are encouraged during the construction of the algorithms); \n",
        "\n",
        "10. Print clear labels in the printed results and explain in short and concise sentences the steps that you followed. \n",
        "\n",
        "11. Comment and document your code, as you will most likely later work in teams developing such algorithms.\n",
        "\n",
        "12. Format: Jupyter Notebook.\n",
        "13. Programming Language: Python.\n",
        "14. Platform: Google Colab.\n",
        "15. The assignment will be mark using the rubric provided in the outline\n",
        "\n",
        "16. **Submission: Upload the Jupyter Notebook in OpenLearning, in the section provided for that and on your GitHub space. The application wil close at exactly the date and time of the deadline.**\n",
        "\n",
        "17. Marks will be deducted if these instructions are not followed.\n",
        "\n",
        "18. <b><font color=green>Only the final version of the document must be submitted. </font></b>. \n",
        "\n",
        "19. Add your name and surname to the name of this document. For example. `Final-Assignment-Oscar-PerezConcha.ipynb`\n",
        "\n",
        "20. Each question is 10 marks, except question 8 that is 20 marks.\n",
        "\n",
        "21. If you have any questions, please email Oscar and Sandy at:\n",
        "o.perezconcha@unsw.edu.au and z.sa@unsw.edu.au"
      ],
      "metadata": {
        "id": "15VKZz_8G3s4"
      }
    },
    {
      "cell_type": "markdown",
      "source": [
        "![alt text](https://drive.google.com/uc?export=view&id=105SGqeyo8RgLhSO8mN7ZE5OsG0YiLPKt)"
      ],
      "metadata": {
        "id": "9wK1oQbhq5hX"
      }
    },
    {
      "cell_type": "markdown",
      "source": [
        "\n",
        "\n",
        "---\n",
        "\n"
      ],
      "metadata": {
        "id": "3eE8VXdpl_I2"
      }
    },
    {
      "cell_type": "code",
      "execution_count": 18,
      "metadata": {
        "id": "skbhUSeQiKQa",
        "colab": {
          "base_uri": "https://localhost:8080/"
        },
        "outputId": "e6221cc8-c807-403a-a025-2b3bdd59d85a"
      },
      "outputs": [
        {
          "output_type": "stream",
          "name": "stdout",
          "text": [
            "Installing:  {'grid', 'shap'}\n"
          ]
        }
      ],
      "source": [
        "# check required libraries are installed if not calling system to install\n",
        "import sys\n",
        "import subprocess\n",
        "import pkg_resources\n",
        "\n",
        "required = {'numpy', 'pandas', 'plotnine', 'matplotlib', 'seaborn', \n",
        "            'grid', 'shap', 'scikit-learn'}\n",
        "installed = {pkg.key for pkg in pkg_resources.working_set}\n",
        "missing = required - installed\n",
        "\n",
        "if missing:\n",
        "    print('Installing: ', missing)\n",
        "    python = sys.executable\n",
        "    subprocess.check_call([python, '-m', 'pip', 'install', *missing], stdout=subprocess.DEVNULL)\n",
        "# delete unwanted variables\n",
        "del required \n",
        "del installed \n",
        "del missing"
      ]
    },
    {
      "cell_type": "code",
      "execution_count": 19,
      "metadata": {
        "id": "Y8p62DC4iKQb",
        "colab": {
          "base_uri": "https://localhost:8080/"
        },
        "outputId": "c64791b7-6a0d-4c95-da63-10e7b33628de"
      },
      "outputs": [
        {
          "output_type": "stream",
          "name": "stdout",
          "text": [
            "Drive already mounted at /content/drive; to attempt to forcibly remount, call drive.mount(\"/content/drive\", force_remount=True).\n"
          ]
        }
      ],
      "source": [
        "# Mount Google Drive\n",
        "# We do not need to run this cell if you are not running this notebook in Google Colab\n",
        "\n",
        "if 'google.colab' in str(get_ipython()):\n",
        "    from google.colab import drive # import drive from Gogle colab\n",
        "    root = '/content/drive'     # default location for the drive\n",
        "    # print(root)                 # print content of ROOT (Optional)\n",
        "    drive.mount(root)\n",
        "else:\n",
        "    print('Not running on CoLab')"
      ]
    },
    {
      "cell_type": "markdown",
      "source": [
        "Change the project paths and the paths according to where you have placed your files: "
      ],
      "metadata": {
        "id": "T70EJU8pAzeY"
      }
    },
    {
      "cell_type": "code",
      "execution_count": 20,
      "metadata": {
        "id": "kRNGzaEjiKQc"
      },
      "outputs": [],
      "source": [
        "from pathlib import Path\n",
        "\n",
        "if 'google.colab' in str(get_ipython()):\n",
        "    # EDIT THE PROJECT PATH IF DIFFERENT WITH YOUR ONE\n",
        "    project_path = Path(root) / 'MyDrive' / 'HDAT9500' / 'final-assignment'\n",
        "\n",
        "    # OPTIONAL - set working directory according to your google drive project path\n",
        "    # import os\n",
        "    # Change directory to the location defined in project_path\n",
        "    # os.chdir(project_path)\n",
        "else:\n",
        "    project_path = Path()"
      ]
    },
    {
      "cell_type": "markdown",
      "source": [
        "\n",
        "\n",
        "---\n",
        "Function to plot the confusion matrix:\n"
      ],
      "metadata": {
        "id": "58McxBL6Angl"
      }
    },
    {
      "cell_type": "code",
      "source": [
        "def plot_confusion_matrix(confusion_matrix):\n",
        "  # visualise the confusion matrix\n",
        "  labels = ['No', 'Yes']\n",
        "  ax = plt.subplot()\n",
        "  sns.heatmap(confusion_matrix, annot = True, fmt = '.0f', ax = ax, cmap = 'viridis')\n",
        "\n",
        "  # labels, titles and ticks\n",
        "  ax.set_xlabel('Predicted labels')\n",
        "  ax.set_ylabel('True labels')\n",
        "  ax.set_title('Confusion Matrix')\n",
        "  ax.xaxis.set_ticklabels(labels)\n",
        "  ax.yaxis.set_ticklabels(labels)"
      ],
      "metadata": {
        "id": "ptWoRBD1os1T"
      },
      "execution_count": 21,
      "outputs": []
    },
    {
      "cell_type": "markdown",
      "metadata": {
        "id": "IbpJocChpcTR"
      },
      "source": [
        "---\n",
        "# Question 1: Docstring\n",
        "\n",
        "Create a docstring with:\n",
        "1. The final aim of our program (50 words limit).\n",
        "2. The variables and constants that you will use in this exercise (data dictionary). It is expected that you choose informative variable names and document your program (both docstrings and comments). \n",
        "3. Divide the docstring in sections. One section per question.\n",
        "---"
      ]
    },
    {
      "cell_type": "markdown",
      "metadata": {
        "id": "q2zvhr_epcTS"
      },
      "source": [
        "<b> Final aim of our program:</b>\n",
        "\n",
        "To reduced the number of readmissions in the hospital.\n",
        "\n",
        "################################################################################"
      ]
    },
    {
      "cell_type": "markdown",
      "metadata": {
        "id": "-3wGayW7marI"
      },
      "source": [
        "<b> Constants and variables in alphabetical order:</b>\n",
        "\n",
        "---\n",
        "<b> Aim of this program </b>\n",
        "\n",
        "To build a predictive model to predict readmission to hospital within 30 days of discharge.\n",
        "\n",
        "---\n",
        "\n",
        "---\n",
        "<b> Question 1: </b>\n",
        "\n",
        "* `path`: pickle file path\n",
        "* `df`: the hospital readmission dataset\n",
        "* `readmission`: converted readmission record\n",
        "\n",
        "---\n",
        "\n",
        "(...)\n",
        "\n",
        "---\n",
        "<b> Question 4: Training, and hyper-parameter tuning of the Logistic Regression model.</b>\n",
        "\n",
        "* `hyperparameters`: hyperparameters set for the model\n",
        "* `lr`: the logistic regression model\n",
        "* `grid_lr`: perform 3-fold cross-validation for the grid search\n",
        "\n",
        "---\n",
        "\n",
        "<b>Question 5: Evaluation of the Logistic Regression: </b>\n",
        "* `lr_y_train_prediction`: the prediction results of the training set\n",
        "* `cm_lr_train`: confusion matrix of the training set\n",
        "\n",
        "---\n",
        "\n",
        "\n",
        "---\n",
        "\n",
        "################################################################################"
      ]
    },
    {
      "cell_type": "markdown",
      "source": [
        "\n",
        "\n",
        "---\n",
        "\n"
      ],
      "metadata": {
        "id": "ew1S59Vj1l2m"
      }
    },
    {
      "cell_type": "markdown",
      "source": [
        "---\n",
        "# Question 2: Read and check the `pickle` provided. Prepare the data so they can be used by the algorithms that you are going to create.\n",
        "---"
      ],
      "metadata": {
        "id": "DmqPFyIbnJci"
      }
    },
    {
      "cell_type": "markdown",
      "source": [
        "<b> Rationale: What are you doing to solve this question?-75 words limit:</b>\n",
        "\n",
        "\n",
        "To read and clean the dataset by removing the irrelevant admissin_id and patient_id columns, as well as missing values in our training model, then covert categrical readmission status to numeric labels. \n",
        "\n",
        "\n",
        "\n",
        "################################################################################"
      ],
      "metadata": {
        "id": "1AogtSxHxEW5"
      }
    },
    {
      "cell_type": "code",
      "source": [
        "# Python code here (15 lines limit)\n",
        "import pickle\n",
        "import pandas as pd\n",
        "\n",
        "path = open('/content/drive/MyDrive/Colab Notebooks/9800/final-assignment-polly-cai/data/hospital_data_final_assignment.pickle', 'rb')\n",
        "df = pickle.load(path)\n",
        "df = df.drop(\"admission_id\", axis=1,inplace=False) # remove admission_id\n",
        "df = df.drop(\"patient_id\", axis=1,inplace=False) # remove patient_id\n",
        "df = df.dropna(how='any') # Remove empty values\n",
        "readmission = {\"no\":0, \"yes\":1} # 0 = no readmission, 1 = readmission\n",
        "df[\"readmission\"] = df[\"readmission\"].map(readmission) # converting\n",
        "x = df.iloc[:,0:-1]\n",
        "y = df.iloc[:,-1]"
      ],
      "metadata": {
        "id": "DJJoTVRw049e"
      },
      "execution_count": 22,
      "outputs": []
    },
    {
      "cell_type": "markdown",
      "source": [
        "---"
      ],
      "metadata": {
        "id": "1gsmCMIJ9oQ5"
      }
    },
    {
      "cell_type": "markdown",
      "source": [
        "---\n",
        "## Question 3: Divide the data into 80% training, 20% test, random seed of 42. Set the other hyper-parameters as you consider appropriate\n",
        "---\n"
      ],
      "metadata": {
        "id": "PRlUipB2-nMX"
      }
    },
    {
      "cell_type": "markdown",
      "source": [
        "<b> Rationale: What are you doing to solve this question?-75 words limit:</b>\n",
        "\n",
        "To split the dataset to 80% as the training set and 20% as the test set.\n",
        "\n",
        "################################################################################"
      ],
      "metadata": {
        "id": "7HjTXSR6-4cR"
      }
    },
    {
      "cell_type": "code",
      "source": [
        "# Python code here (2 lines limit, and 1 cell limit)\n",
        "from sklearn.model_selection import train_test_split\n",
        "x_train, x_test, y_train, y_test = train_test_split(x, y, random_state=42, test_size=0.2) # divide data to 2 sets"
      ],
      "metadata": {
        "id": "5LeXrTXc-4cR"
      },
      "execution_count": 23,
      "outputs": []
    },
    {
      "cell_type": "markdown",
      "source": [
        "\n",
        "\n",
        "---\n",
        "\n"
      ],
      "metadata": {
        "id": "ZcRSCX5s1kPR"
      }
    },
    {
      "cell_type": "markdown",
      "source": [
        "---\n",
        "## Question 4: Training, and hyper-parameter tuning of the Logistic Regression model.  \n",
        "\n",
        "Hyper-parameters: \n",
        "\n",
        "- `C` values: 10, 100.\n",
        "- `class_weight`: only two pairs. Choose one of these two combinations and explain why.\n",
        "\n",
        "    * A weight of (80% for class 1, 20% for class 0) and (70% for class 1, 30% for class 0)\n",
        "    * A weight of (80% for class 0, 20% for class 1) and (70% for class 0, 30% for class 1). \n",
        "\n",
        "- `penalty` values: l1, l2.\n",
        "- 3-fold cross-validation for the grid search.\n",
        "- `f1` as the score to choose the best model in the grid search.\n",
        "- `n_jobs`=-1.\n",
        "- do not include the heatmaps in the final submission.\n",
        "- do not change these hyper-parameters, \n",
        "- keep the remaining set of hyper-parameters in the default state. \n",
        "---\n"
      ],
      "metadata": {
        "id": "b3v2JXmp1o5W"
      }
    },
    {
      "cell_type": "markdown",
      "source": [
        "<b> Rationale: What are you doing to solve this question?-75 words limit:</b>\n",
        "\n",
        "To train and fit the logistic regression model by setting hyper-parameters.\n",
        "\n",
        "################################################################################"
      ],
      "metadata": {
        "id": "p845NQAlAY-U"
      }
    },
    {
      "cell_type": "code",
      "source": [
        "# Python code here (15 lines limit, and 2 cells limit)\n",
        "from sklearn.model_selection import GridSearchCV\n",
        "from sklearn.linear_model import LogisticRegression\n",
        "\n",
        "hyperparameters = {'C':[10,100],\n",
        "              'class_weight':[{0:0.2,1:0.8},{0:0.3,1:0.7}], # as there are less number of readmission in the sample data, so higher % allocated to them can increase the sample weight\n",
        "              'penalty':['l1','l2']} # define hyperparameters\n",
        "lr = LogisticRegression(solver='liblinear') # the logistic regression model\n",
        "grid_lr = GridSearchCV(estimator=lr,\n",
        "                       param_grid=hyperparameters,\n",
        "                       cv=3, scoring=\"f1\",\n",
        "                       n_jobs=-1) # grid method paramater optimisation\n",
        "grid_lr.fit(X=x_train, y=y_train) # model training\n",
        "print(grid_lr.best_score_, grid_lr.best_params_)\n"
      ],
      "metadata": {
        "id": "-ixDi9nvAY-d",
        "outputId": "39f2d18f-2f63-463f-a8c7-7c5753741007",
        "colab": {
          "base_uri": "https://localhost:8080/"
        }
      },
      "execution_count": 24,
      "outputs": [
        {
          "output_type": "stream",
          "name": "stdout",
          "text": [
            "0.9321445022253552 {'C': 10, 'class_weight': {0: 0.3, 1: 0.7}, 'penalty': 'l2'}\n"
          ]
        }
      ]
    },
    {
      "cell_type": "markdown",
      "source": [
        "\n",
        "\n",
        "---\n",
        "\n"
      ],
      "metadata": {
        "id": "98-HHV0DNkkC"
      }
    },
    {
      "cell_type": "markdown",
      "source": [
        "---\n",
        "## Question 5: Evaluation of the Logistic Regression model on the training and test sets. Use the function `plot_confusion_matrix(confusion_matrix)` provided above.\n",
        "---"
      ],
      "metadata": {
        "id": "y2BLfWf9NmWf"
      }
    },
    {
      "cell_type": "markdown",
      "source": [
        "<b> Rationale: What are you doing to solve this question?-75 words limit:</b>\n",
        "\n",
        "\n",
        "Define the performance of the logistic regression model fitted before to determine the compatibility of the model from the predicted results and the actual readmission data.\n",
        "\n",
        "################################################################################"
      ],
      "metadata": {
        "id": "T0ZoopThNyaW"
      }
    },
    {
      "cell_type": "code",
      "source": [
        "# Python code here (10 lines limit, and 2 cells limit)\n",
        "from matplotlib import pyplot as plt \n",
        "import seaborn as sns\n",
        "\n",
        "from sklearn.metrics import confusion_matrix\n",
        "lr_y_train_prediction = grid_lr.predict(x_train) # get the training set prediction results\n",
        "cm_lr_train = confusion_matrix(y_train, lr_y_train_prediction) # calculate confusion matrix of the training set\n",
        "plot_confusion_matrix(cm_lr_train)"
      ],
      "metadata": {
        "id": "L1GEJ8kGNyaW",
        "colab": {
          "base_uri": "https://localhost:8080/",
          "height": 295
        },
        "outputId": "f84a85d6-828b-4aaf-e5a0-9bdef47c1dc7"
      },
      "execution_count": 25,
      "outputs": [
        {
          "output_type": "display_data",
          "data": {
            "text/plain": [
              "<Figure size 432x288 with 2 Axes>"
            ],
            "image/png": "[encoded data removed]"
          },
          "metadata": {
            "needs_background": "light"
          }
        }
      ]
    },
    {
      "cell_type": "code",
      "source": [
        "lr_y_test_prediction = grid_lr.predict(x_test) # get the test set prediction results\n",
        "cm_lr_test = confusion_matrix(y_test, lr_y_test_prediction) # calculate confusion matrix of the test set\n",
        "plot_confusion_matrix(cm_lr_test)"
      ],
      "metadata": {
        "colab": {
          "base_uri": "https://localhost:8080/",
          "height": 295
        },
        "id": "p5jGZ_mNwK3L",
        "outputId": "b2733348-516c-4dc5-928b-45665e431f9e"
      },
      "execution_count": 26,
      "outputs": [
        {
          "output_type": "display_data",
          "data": {
            "text/plain": [
              "<Figure size 432x288 with 2 Axes>"
            ],
            "image/png": "[encoded data removed]"
          },
          "metadata": {
            "needs_background": "light"
          }
        }
      ]
    },
    {
      "cell_type": "markdown",
      "source": [
        "\n",
        "\n",
        "---\n",
        "\n"
      ],
      "metadata": {
        "id": "CTIi2cd1yugI"
      }
    },
    {
      "cell_type": "markdown",
      "source": [
        "---\n",
        "## Question 6: Training, and hyper-parameter tuning of the Random Forest model.  \n",
        "\n",
        "Fixed hyper-parameters (do not change the values of these hyper-parameters): \n",
        "\n",
        "- `n_estimators`: 150, 200\n",
        "- `class_weight`: Only two pairs. Choose one of these two combinations and explain why.\n",
        "1. A weight of (80% for class 1, 20% for class 0) and (70% for class 1, 30% for class 0)\n",
        "2.  A weight of (80% for class 0, 20% for class 1) and (70% for class 0, 30% for class 1). \n",
        "- 3-fold cross-validation for the grid search.\n",
        "- `f1` as the score to choose the best model in the grid search.\n",
        "- `n_jobs`=-1\n",
        "- do not include the heatmaps in the final submission\n",
        "\n",
        "Other hyper-parameters: \n",
        "\n",
        "- `max_features`: 20, 30\n",
        "- `min_samples_split`: 20, 25\n",
        "- you can change the previous hyper-parameters (`max_features` and `min_samples_split`) or add other hyper-parameters if you wish. An explanation must be given to why you made that decision. \n",
        "\n",
        "---\n"
      ],
      "metadata": {
        "id": "iTQtpo_8yvX3"
      }
    },
    {
      "cell_type": "markdown",
      "source": [
        "<b> Rationale: What are you doing to solve this question?-75 words lilmit:</b>\n",
        "\n",
        "\n",
        "Continue to set more hyper-parameters and build a random forest model.\n",
        "\n",
        "\n",
        "################################################################################"
      ],
      "metadata": {
        "id": "fA5-7Qpe2SPC"
      }
    },
    {
      "cell_type": "code",
      "source": [
        "from inspect import Parameter\n",
        "# Python code here (15 lines limit, and 2 cells limit)\n",
        "from sklearn.ensemble import RandomForestClassifier\n",
        "rf_paramaters = {'n_estimators':[150,200], 'class_weight':[{0:0.2,1:0.8},{0:0.3,1:0.7}], 'max_features':[20,30],'min_samples_split':[20,25]}\n",
        "rf = RandomForestClassifier(n_jobs=-1)\n",
        "grid_rf = GridSearchCV(estimator=rf,param_grid=rf_paramaters,cv=3,scoring=\"f1\",n_jobs=-1)\n",
        "grid_rf.fit(X=x_train,y=y_train)\n",
        "print(grid_rf.best_score_, grid_rf.best_params_)"
      ],
      "metadata": {
        "id": "9CHL7UB52SPJ",
        "colab": {
          "base_uri": "https://localhost:8080/"
        },
        "outputId": "018b9541-d0d4-426e-b212-df9a4d3188d9"
      },
      "execution_count": 27,
      "outputs": [
        {
          "output_type": "stream",
          "name": "stdout",
          "text": [
            "0.9464223000243862 {'class_weight': {0: 0.3, 1: 0.7}, 'max_features': 30, 'min_samples_split': 20, 'n_estimators': 150}\n"
          ]
        }
      ]
    },
    {
      "cell_type": "markdown",
      "source": [
        "---"
      ],
      "metadata": {
        "id": "_zu7iaT8AANM"
      }
    },
    {
      "cell_type": "markdown",
      "source": [
        "---\n",
        "## Question 7: Evaluation of the Random Forest model on the training and test sets. Use the function `plot_confusion_matrix(confusion_matrix)` provided above.\n",
        "---"
      ],
      "metadata": {
        "id": "xwh91teY3VgL"
      }
    },
    {
      "cell_type": "markdown",
      "source": [
        "<b> Rationale: What are you doing to solve this question?-50 words limit:</b>\n",
        "\n",
        "Define the performance of the random forest model fitted before to determine the compatibility of the model from the predicted results and the actual readmission data.\n",
        "\n",
        "################################################################################"
      ],
      "metadata": {
        "id": "hiHbV8Sf3VgT"
      }
    },
    {
      "cell_type": "code",
      "source": [
        "# Python code here (10 lines limit, and 2 cells limit)\n",
        "from sklearn.metrics import confusion_matrix\n",
        "\n",
        "rf_y_train_prediction = grid_rf.predict(x_train)\n",
        "cm_rf_train = confusion_matrix(y_train, rf_y_train_prediction)\n",
        "plot_confusion_matrix(cm_rf_train)"
      ],
      "metadata": {
        "id": "Yk4wPAlV3VgU",
        "colab": {
          "base_uri": "https://localhost:8080/",
          "height": 295
        },
        "outputId": "f8a78e77-dc27-4430-f1da-ca27998c41f5"
      },
      "execution_count": 34,
      "outputs": [
        {
          "output_type": "display_data",
          "data": {
            "text/plain": [
              "<Figure size 432x288 with 2 Axes>"
            ],
            "image/png": "[encoded data removed]"
          },
          "metadata": {
            "needs_background": "light"
          }
        }
      ]
    },
    {
      "cell_type": "code",
      "source": [
        "rf_y_test_prediction = grid_rf.predict(x_test)\n",
        "cm_rf_test = confusion_matrix(y_test, rf_y_test_prediction)\n",
        "plot_confusion_matrix(cm_rf_test)"
      ],
      "metadata": {
        "colab": {
          "base_uri": "https://localhost:8080/",
          "height": 295
        },
        "id": "4T4VwA2cgUZU",
        "outputId": "9241c2bd-582b-4e20-aec3-57c48ee488d4"
      },
      "execution_count": 33,
      "outputs": [
        {
          "output_type": "display_data",
          "data": {
            "text/plain": [
              "<Figure size 432x288 with 2 Axes>"
            ],
            "image/png": "[encoded data removed]"
          },
          "metadata": {
            "needs_background": "light"
          }
        }
      ]
    },
    {
      "cell_type": "markdown",
      "source": [
        "\n",
        "\n",
        "---\n",
        "\n"
      ],
      "metadata": {
        "id": "4CsbaxoQ3VgU"
      }
    },
    {
      "cell_type": "markdown",
      "source": [
        "---\n",
        "## Question 8: Based on the research questions and the instructions; What model would you choose if any? Would you deploy this model?  - 300 words limit.\n",
        "---"
      ],
      "metadata": {
        "id": "eMBZph5HA6AN"
      }
    },
    {
      "cell_type": "markdown",
      "source": [
        "<b> 300 words limit </b>\n",
        "\n",
        "The confusion matrix results showing that there is higher number of correct prediction results in the random forest model (2269) compared to the logistic regression model (2258) in the test set.\n",
        "I would deploy the **random forest model** and integrate it into the hospital data environment where it can take in an input and return an output.\n",
        "\n",
        "\n",
        "################################################################################"
      ],
      "metadata": {
        "id": "AXP5G5nrA6AO"
      }
    },
    {
      "cell_type": "markdown",
      "source": [
        "\n",
        "\n",
        "---\n",
        "\n"
      ],
      "metadata": {
        "id": "l63_Jk0mA6AP"
      }
    },
    {
      "cell_type": "markdown",
      "source": [
        "---\n",
        "## Question 9: Use SHAP for the final model and give some explanation of what you observe. If you haven't chosen any model in question 8, choose the best model according to the evaluation metrics. Comment the results.\n",
        "---"
      ],
      "metadata": {
        "id": "u0Wb9iHWASdT"
      }
    },
    {
      "cell_type": "markdown",
      "source": [
        "<b> Explanation of what you observe - 100 words limit:</b>\n",
        "\n",
        "The weight of the binary results are equal from the SHAP plot.\n",
        "\n",
        "\n",
        "################################################################################"
      ],
      "metadata": {
        "id": "1IlYvZ83ASda"
      }
    },
    {
      "cell_type": "code",
      "source": [
        "# Python code here (10 lines limit, and 2 cells limit)\n",
        "import shap\n",
        "model = grid_rf.best_estimator_\n",
        "explainer = shap.TreeExplainer(model)\n",
        "shap_values = explainer.shap_values(x_test)\n",
        "shap.summary_plot(shap_values, x_test, plot_type=\"bar\", show=True)"
      ],
      "metadata": {
        "id": "wh2VJms9ASda",
        "colab": {
          "base_uri": "https://localhost:8080/",
          "height": 693
        },
        "outputId": "e00ce9e7-7aba-4fdd-805d-535bb89916a5"
      },
      "execution_count": 31,
      "outputs": [
        {
          "output_type": "display_data",
          "data": {
            "text/plain": [
              "<Figure size 576x684 with 1 Axes>"
            ],
            "image/png": "[encoded data removed]"
          },
          "metadata": {
            "needs_background": "light"
          }
        }
      ]
    },
    {
      "cell_type": "markdown",
      "source": [
        "\n",
        "\n",
        "---\n",
        "\n"
      ],
      "metadata": {
        "id": "hrD9unXPAZQL"
      }
    },
    {
      "cell_type": "markdown",
      "metadata": {
        "id": "TYOVWp4ViKQq"
      },
      "source": [
        "© 2022 Copyright The University of New South Wales - CRICOS 00098G"
      ]
    }
  ],
  "metadata": {
    "colab": {
      "name": "Final-Assignment-polly-cai.ipynb",
      "provenance": [],
      "collapsed_sections": [
        "iTQtpo_8yvX3",
        "xwh91teY3VgL"
      ],
      "toc_visible": true,
      "include_colab_link": true
    },
    "interpreter": {
      "hash": "aee8b7b246df8f9039afb4144a1f6fd8d2ca17a180786b69acc140d282b71a49"
    },
    "kernelspec": {
      "display_name": "Python 3.7.4 64-bit",
      "language": "python",
      "name": "python3"
    },
    "language_info": {
      "codemirror_mode": {
        "name": "ipython",
        "version": 3
      },
      "file_extension": ".py",
      "mimetype": "text/x-python",
      "name": "python",
      "nbconvert_exporter": "python",
      "pygments_lexer": "ipython3",
      "version": "3.7.4"
    }
  },
  "nbformat": 4,
  "nbformat_minor": 0
}