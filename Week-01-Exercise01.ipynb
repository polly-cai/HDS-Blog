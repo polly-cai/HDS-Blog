{
  "cells": [
    {
      "cell_type": "markdown",
      "metadata": {
        "id": "view-in-github",
        "colab_type": "text"
      },
      "source": [
        "<a href=\"https://colab.research.google.com/github/polly-cai/HDS-Blog/blob/main/Week-01-Exercise01.ipynb\" target=\"_parent\"><img src=\"https://colab.research.google.com/assets/colab-badge.svg\" alt=\"Open In Colab\"/></a>"
      ]
    },
    {
      "cell_type": "markdown",
      "metadata": {
        "id": "uKc79KByX-uf"
      },
      "source": [
        "![alt text](https://drive.google.com/uc?export=view&id=1DXUVHxd4t15mfuqMgMCLnsP4jWVI5EWz)\n",
        "\n",
        "---"
      ]
    },
    {
      "cell_type": "markdown",
      "metadata": {
        "id": "tNszBIHkshG7"
      },
      "source": [
        "© 2022 Copyright The University of New South Wales - CRICOS 00098G\n",
        "\n",
        "**Author**: Oscar Perez-Concha: o.perezconcha@unsw.edu.au\n",
        "\n",
        "**Contributors/Co-authors**: Marta Fredes-Torres, Zhisheng (Sandy) Sa and Matthew Sainsbury-Dale."
      ]
    },
    {
      "cell_type": "markdown",
      "metadata": {
        "id": "_ZApyR1fshG8"
      },
      "source": [
        "# Exercise 1: Introduction to ML and Data Mining: Data Preparation"
      ]
    },
    {
      "cell_type": "markdown",
      "metadata": {
        "id": "YQuJ9kkTX-uj"
      },
      "source": [
        "# 1. Introduction: \n",
        "\n",
        "---\n",
        "\n",
        "\n",
        "\n",
        "In this first notebook, we will become familiar with the <b> diabetes hospitalisations - inpatient hospital data set </b> which will be used throughout the course. This exercise will guide you on how to check, visualise and clean data for the analysis. \n",
        "\n",
        "## 1.1. Aims\n",
        " 1. To become familiar with the <b> diabetes hospitalisations - inpatient hospital data set </b> and the <b>clinical terms</b> contained within it\n",
        " 2. To become familiar with the data dictionary\n",
        " 3. To compute basic statistics of our data \n",
        " 4. To visualise and explore our data, in particular, how our input data relates to the output.\n",
        " 5. To clean our data \n",
        " \n",
        "## 1.2. Important tips to use this Jupyter Notebook\n",
        " 1. Run all the cells in sequence (one at a time), using the \"Run\" button.\n",
        " 2. To edit this notebook, just double-click in each cell. Choose between \"Code\" cell (for Python code) or text \"Markdown\" cell in the combo-box above. \n",
        " 3. If you want to save your notebook, please make sure you press \"the floppy disk\" icon button above. \n",
        " 4. To clean the content of all cells and re-start Notebook, please go to Edit->Clear all outputs\n",
        "\n",
        "Follow the instructions given and if you have any questions, please use the **Comments section** in **Open Learning**. \n",
        "\n",
        "## 1.3. Checks and Libraries\n",
        "   1. For this Notebook to work, Python version must be higher than **3.6.x**  [(Instructions for anaconda user)](https://docs.anaconda.com/anaconda/install/update-version)\n",
        "   2. Make sure you have installed **plotnine, matplotlib and seaborn library**. Instructions or Application Programming Interface (API) for [plotnine](http://plotnine.readthedocs.io/en/stable/installation.html), [matplotlib](https://matplotlib.org/3.1.1/users/installing.html) and [seaborn](https://seaborn.pydata.org/installing.html).\n",
        "   3. Make sure you have mounted the google drive where the chapter file is located. The defalt path is `/content/drive/My Drive/Colab Notebooks/chapter01`, if you are using a different path, please edit accordingly.\n",
        "   4. We are going to use **pandas** or **DataFrame**, which are the Python equivalent to data.frame in R.\n",
        " (More information see the API for [pandas](https://pandas.pydata.org/) and [pandas reference](http://pandas.pydata.org/pandas-docs/stable/api.html))"
      ]
    },
    {
      "cell_type": "code",
      "execution_count": 2,
      "metadata": {
        "id": "mrmDyr9gX-um",
        "outputId": "d7734c27-5233-40d5-f328-a822782efab6",
        "colab": {
          "base_uri": "https://localhost:8080/"
        }
      },
      "outputs": [
        {
          "output_type": "stream",
          "name": "stdout",
          "text": [
            "Current python version:  3.7.13 (default, Apr 24 2022, 01:04:09) \n",
            "[GCC 7.5.0]\n"
          ]
        }
      ],
      "source": [
        "# check python version\n",
        "import sys\n",
        "print('Current python version: ', sys.version)\n",
        "assert sys.version_info > (3, 6), 'Python version needs to be higher than 3.6'"
      ]
    },
    {
      "cell_type": "code",
      "execution_count": 3,
      "metadata": {
        "id": "PnDynA7gX-uo",
        "outputId": "8f4f51dc-38b4-429c-a753-c446aabb32f4",
        "colab": {
          "base_uri": "https://localhost:8080/"
        }
      },
      "outputs": [
        {
          "output_type": "stream",
          "name": "stdout",
          "text": [
            "Installing:  {'lime', 'shap', 'grid'}\n"
          ]
        }
      ],
      "source": [
        "# check required libraries are installed if not calling system to install\n",
        "import sys\n",
        "import subprocess\n",
        "import pkg_resources\n",
        "\n",
        "required = {'numpy', 'pandas', 'plotnine', 'matplotlib', 'seaborn', \n",
        "            'grid', 'lime', 'shap', 'scikit-learn'}\n",
        "installed = {pkg.key for pkg in pkg_resources.working_set}\n",
        "missing = required - installed\n",
        "\n",
        "if missing:\n",
        "    print('Installing: ', missing)\n",
        "    python = sys.executable\n",
        "    subprocess.check_call([python, '-m', 'pip', 'install', *missing], stdout=subprocess.DEVNULL)\n",
        "# delete unwanted variables\n",
        "del required \n",
        "del installed \n",
        "del missing"
      ]
    },
    {
      "cell_type": "code",
      "execution_count": 4,
      "metadata": {
        "id": "Vw9oisOHTod2"
      },
      "outputs": [],
      "source": [
        "# import required libraries\n",
        "import numpy as np\n",
        "from scipy import sparse\n",
        "from IPython.display import display\n",
        "import warnings\n",
        "warnings.filterwarnings('ignore')"
      ]
    },
    {
      "cell_type": "code",
      "execution_count": 5,
      "metadata": {
        "id": "dUM2X9jkTod3",
        "outputId": "64d2c7fc-b903-4c46-fec8-625f8c364c6c",
        "colab": {
          "base_uri": "https://localhost:8080/"
        }
      },
      "outputs": [
        {
          "output_type": "stream",
          "name": "stdout",
          "text": [
            "/content/drive\n",
            "Mounted at /content/drive\n"
          ]
        }
      ],
      "source": [
        "# Mount Google Drive\n",
        "# We do not need to run this cell if you are not running this notebook in Google Colab\n",
        "\n",
        "if 'google.colab' in str(get_ipython()):\n",
        "    from google.colab import drive # import drive from Gogle colab\n",
        "    root = '/content/drive'     # default location for the drive\n",
        "    print(root)                 # print content of ROOT (Optional)\n",
        "    drive.mount(root)\n",
        "else:\n",
        "    print('Not running on CoLab')\n",
        "\n"
      ]
    },
    {
      "cell_type": "markdown",
      "metadata": {
        "id": "5kJGc-LwshHB"
      },
      "source": [
        "If you are running this notebook in Google Colab, you must define your project paths. In this case, define your `project_path`. Otherwise, all the data will be lost after you close the session."
      ]
    },
    {
      "cell_type": "code",
      "execution_count": 6,
      "metadata": {
        "id": "w2vLfaUtUjHX"
      },
      "outputs": [],
      "source": [
        "from pathlib import Path\n",
        "if 'google.colab' in str(get_ipython()):\n",
        "    # EDIT THE PROJECT PATH IF DIFFERENT WITH YOUR ONE\n",
        "    # \n",
        "    project_path = Path(root) / 'MyDrive' / 'HDAT9500' / 'week01'\n",
        "    \n",
        "    # OPTIONAL - set working directory according to your google drive project path\n",
        "    # import os\n",
        "    # Change directory to the location defined in project_path\n",
        "    # os.chdir(project_path)\n",
        "else:\n",
        "    project_path = Path()"
      ]
    },
    {
      "cell_type": "markdown",
      "metadata": {
        "id": "qRl1ZxOoX-up"
      },
      "source": [
        "# 2. Machine Learning and Data Mining Work-Flow: \n",
        "\n",
        "In Machine Learning (ML), we follow a pattern to transform the data from raw data format to some valuable information by using data mining techniques and building ML models. The machine learning and data mining work-flow provides a series of steps to build a multi-ML parallel pipeline system to examine the outcomes of different ML methods. \n",
        "\n",
        "**In this exercise, we are going to visualise and explore the data, focusing on our output of readmission to hospital. In particular, in this exercise, we will go through steps:**\n",
        "\n",
        "#### Step 1. Research question:\n",
        "#### Steps 2 and 3. Data and Data Gathering.\n",
        "#### Step 4: Exploratory Data Analysis: Preparing Data, Visualisation, Exploration (Basic Statistics) and Data Manipulation\n",
        "\n",
        "![alt text](https://drive.google.com/uc?export=view&id=105SGqeyo8RgLhSO8mN7ZE5OsG0YiLPKt)\n",
        "\n",
        "For more information, see [this video by Google Cloud Platform](https://www.youtube.com/watch?v=nKW8Ndu7Mjw&feature=youtu.be&list=PLIivdWyY5sqJxnwJhe3etaK7utrBiPBQ2). Note that they only considered steps 1-7. We include 8. Interpretation (since interpretation is very important in the health context) and 9.Deployment (to deploy the final model in a hospital, government,...)."
      ]
    },
    {
      "cell_type": "markdown",
      "metadata": {
        "id": "EYpkcQuhX-uq"
      },
      "source": [
        "# 3. Step 1. Defining our Research Question\n",
        "\n",
        "\n",
        "1. Define the problem: What are we interested in answering? \n",
        "2. Is our problem a health data science problem? What type of health data science problem is it? \n",
        "3. Clearly formulate the problem.\n",
        "4. Do we need ML algorithms?\n",
        "5. Is our question about description, prediction or causal inference? See an example of the type of questions that we can have. This table from [Miguel A. Hernán, John Hsu & Brian Healy (2019)](https://doi.org/10.1080/09332480.2019.1579578). Unsupervised learning fits in the \"description\" column, Supervised learning is \"prediction\" and Reinforcement learning is related to the causal inference column.\n",
        "        \n",
        "![alt text](https://drive.google.com/uc?export=view&id=1kRiDLIGoHUTT-HWiZz2SXs4hWg1OVWeL)"
      ]
    },
    {
      "cell_type": "markdown",
      "metadata": {
        "id": "7ciXxo4MX-ur"
      },
      "source": [
        "In this first chapter, our final goal is: **to build a predictive algorithm to predict (at the time of admission) whether a patient with diabetes will be readmitted to the hospital after discharge or not**. We will build this predictive algorithm in exercises 1, 2 and 3.\n",
        "\n",
        "The time at which we make the prediction is very important. For the time being, just remember that. We will go back to this in exercise 3. \n",
        "\n",
        "Please note that **readmission** is a categorical feature. The way this variable has been defined in our data set is as follows:\n",
        "\n",
        "1. 'YES', if the patient has been readmitted to hospital within 30 days of discharge, \n",
        "2. 'NO', otherwise.\n",
        "\n",
        "We are interested in readmissions that occur within 30 days of discharge. Why 30 days?\n",
        "\n",
        "It is a reasonable number of days that most goverments use around the world in order to measure quality of care provided during hospitalisation. We hypothesise that if the readmission happens within 30 days of discharge, there is a high chance that the readmission is due to suboptimal procedures or factors from the main hospitalisation. On the contrary, if the readmission occurs after 30 days of discharge, there are other factors (apart from the main hospitalisation) that can play a role in readmission."
      ]
    },
    {
      "cell_type": "markdown",
      "metadata": {
        "id": "vSDDJSZuX-ut"
      },
      "source": [
        "# 4. Docstring\n",
        "\n",
        "Create a docstring with the variables and constants that you will use in this exercise (data dictionary) and the aim or purpose of your program. It is expected that you choose informative variable names and document your program (both docstrings and comments). The way we usually create a docstring is by populating the list/dictionary below everytime we create a new constant or variable in our program. By doing this, anyone who reads our program, including ourselves since our memories are not as good as we think they are, know exactly what every constant or variable represent. "
      ]
    },
    {
      "cell_type": "markdown",
      "metadata": {
        "id": "3DZm7AX_X-uu"
      },
      "source": [
        "**== Pupose of program ==**<br>\n",
        " 1. To become familiar with the <b> diabetes hospitalisations - inpatient hospital data set </b> and the <b>clinical terms</b> contained within it\n",
        " 2. To become familiar with the data dictionary\n",
        " 3. To compute basic statistics of our data \n",
        " 4. To visualise and explore our data, in particular, how our input data relates to the output.\n",
        " 5. To clean our data "
      ]
    },
    {
      "cell_type": "markdown",
      "metadata": {
        "id": "y7Viez2wX-uv"
      },
      "source": [
        "<b> Add to the answer here:</b>\n",
        "#####################################################################################################################\n",
        "\n",
        "(double-click here)\n",
        "\n",
        "**== Variables ==**\n",
        "\n",
        "For _setup directory_\n",
        "\n",
        "* `root` file path for google drive\n",
        "* `project_path` file path for project data, output, notebook etc\n",
        "\n",
        "For _dataset preparation_ (i.e. feature/target and train/test)\n",
        "- `path_csv` path where the CSV file is contained\n",
        "- `hospital` pandas DataFrame object contains original data\n",
        "- `hospital_clean` pandas DataFrame object contains cleaned data for output\n",
        "\n",
        "For _Intermediate Variables_ (i.e. deleted after use)\n",
        "- `required` a set of required libraries for chapter 01\n",
        "- `installed` a set of installed libraries in the system\n",
        "- `missing` a set of missing libraries from the required list\n",
        "- `cat_features` a list object contains the name of categorical features\n",
        "- `fearture` a temporary object used looping through categorical features\n",
        "- `hosp_temp` a pandas DataFrame object used for data transformation \n",
        "- `ax` a AxesSubplot object to arrange plots\n",
        "- `color` a list object for colour definition\n",
        "- `f` heatmap plot output figure\n",
        "- `i` a temporary object used looping through varies loops\n",
        "- `p` FacetGrid output figure\n",
        "- `pal` a dict object for colour definition\n",
        "- `total` float64 as total of `totals`\n",
        "- `totals` list object contains proportion for bar plot\n",
        "\n",
        "For data _visualization_ and _analysis_\n",
        "- `hospital_plot` pandas DataFrame to create long format data used in plotting\n",
        "\n",
        "\n",
        "**== Constant (Universal) ==**\n",
        "\n",
        "(add any constant variables here)\n",
        "#####################################################################################################################"
      ]
    },
    {
      "cell_type": "markdown",
      "metadata": {
        "id": "Wv8zGFjDX-ux"
      },
      "source": [
        "# 5. Steps 3 and 4. Data and Data Gathering: Predicting Hospital Readmission for Patients with Diabetes "
      ]
    },
    {
      "cell_type": "markdown",
      "metadata": {
        "id": "y2NgKjBTshHE"
      },
      "source": [
        "The description of the variables or <b>data dictionary</b> of our dataset can be found in the data folder: [<b>data/diabetes/Data_Dictionary.pdf</b>](https://github.com/CBDRH-HDAT9500/week01/blob/a96a5830df7f2cd90bcaf671f8f69a8b92a2947f/data/diabetes/Data_Dictionary.pdf)\n",
        "\n",
        "**Make sure you understand which variables are <font color=green> continuous</font> and which ones are <font color=green>categorical or nominal</font>.**"
      ]
    },
    {
      "cell_type": "markdown",
      "metadata": {
        "id": "MgMw8RgpX-ux"
      },
      "source": [
        "## 5.1 Load the data and check its dimensions \n",
        "\n",
        "1. We import our dataset and print it. Note that using `pd.read_csv` will result in the dataset as a \"pd.DataFrame\".\n",
        "\n",
        "2. Let us print the names and numbers of our **indexes** (or rows) and **columns/features.**\n",
        "\n"
      ]
    },
    {
      "cell_type": "markdown",
      "metadata": {
        "id": "6_IcUrhFshHF"
      },
      "source": [
        "Write the correct path pointing to the file where you copied the datasets \n",
        "\n",
        "Change the path accordingly to your own path. If the path is taken directly from GitHub:\n",
        "path_csv= \"https://raw.githubusercontent.com/CBDRH-HDAT9500/chapter01/master/data/diabetes/diabetes.csv?token=GHSAT0AAAAAABSWBFCFQENBAEEDM3VMGHH2YTLQF6Q\""
      ]
    },
    {
      "cell_type": "code",
      "execution_count": 7,
      "metadata": {
        "id": "Tr6HTqy_X-uy",
        "scrolled": true
      },
      "outputs": [],
      "source": [
        "# Write the correct path pointing to the file where you copied the datasets \n",
        "\n",
        "# Change the path accordingly to your own path. If the path is taken directly from GitHub:\n",
        "# path_csv= \"https://raw.githubusercontent.com/CBDRH-HDAT9500/chapter01/master/data/diabetes/diabetes.csv?token=GHSAT0AAAAAABSWBFCFQENBAEEDM3VMGHH2YTLQF6Q\"\n",
        "\n",
        "# Change the path accordingly to your own path. If the path is taken from Google Drive or your local folder:\n",
        "path_csv = Path(project_path) /'data/diabetes/diabetes.csv'\n"
      ]
    },
    {
      "cell_type": "code",
      "execution_count": 8,
      "metadata": {
        "id": "Y7HUcfEI8Bqb"
      },
      "outputs": [],
      "source": [
        "import pandas as pd\n",
        "\n",
        "hospital = pd.read_csv(path_csv,sep=',')"
      ]
    },
    {
      "cell_type": "code",
      "execution_count": 9,
      "metadata": {
        "id": "2327-MXQX-uy",
        "outputId": "5ec1eeb0-c5fc-4bce-8fff-7aafbe49ebe4",
        "colab": {
          "base_uri": "https://localhost:8080/"
        }
      },
      "outputs": [
        {
          "output_type": "stream",
          "name": "stdout",
          "text": [
            "Features of hospital data: Index(['admission_type_id', 'admission_source_id', 'patient_id', 'los', 'Age',\n",
            "       'admission_id', 'sex', 'weight', 'discharge_disposition_id',\n",
            "       'payer_code', 'medical_specialty', 'max_glu_serum', 'A1Cresult',\n",
            "       'number_diagnoses', 'num_lab_procedures', 'num_procedures',\n",
            "       'num_medications', 'number_emergency', 'number_inpatient',\n",
            "       'number_outpatient', 'group_name_1', 'group_name_2', 'group_name_3',\n",
            "       'readmission'],\n",
            "      dtype='object')\n",
            "Number of rows and columns:  (69270, 24)\n"
          ]
        }
      ],
      "source": [
        "# Print the columns/features names of our dataset using 'DataFrame.columns':\n",
        "print(\"Features of hospital data:\", hospital.columns)\n",
        "\n",
        "# Print the number of rows and columns using 'DataFrame.shape':\n",
        "print(\"Number of rows and columns: \", hospital.shape) "
      ]
    },
    {
      "cell_type": "markdown",
      "metadata": {
        "id": "0U5WG50rX-uz"
      },
      "source": [
        "**Note:** 'los' stands for length of stay. Time in hospital or number of days between admission and discharge.\n",
        "Please see Table 1, page 3 of [this paper](http://dx.doi.org/10.1155/2014/781670)"
      ]
    },
    {
      "cell_type": "markdown",
      "metadata": {
        "id": "4aRgiMhoX-u0"
      },
      "source": [
        "## 5.2 Nature of the features\n",
        "\n",
        "Let's use the Python command `DataFrame.dtypes` to check if our variables are continuous or categorical and if they are aligned with the Data Dictionary. \n",
        "\n",
        "Please note that the Data Dictionary is located in the folder: [<b>data/diabetes/Data_Dictionary.pdf</b>](https://github.com/CBDRH-HDAT9500/week01/blob/a96a5830df7f2cd90bcaf671f8f69a8b92a2947f/data/diabetes/Data_Dictionary.pdf)"
      ]
    },
    {
      "cell_type": "code",
      "execution_count": 10,
      "metadata": {
        "id": "YYAjpiH3X-u0",
        "outputId": "74e773c5-5e63-4e13-9a40-fb89f193eb9e",
        "colab": {
          "base_uri": "https://localhost:8080/"
        }
      },
      "outputs": [
        {
          "output_type": "execute_result",
          "data": {
            "text/plain": [
              "admission_type_id            int64\n",
              "admission_source_id          int64\n",
              "patient_id                   int64\n",
              "los                          int64\n",
              "Age                          int64\n",
              "admission_id                 int64\n",
              "sex                         object\n",
              "weight                      object\n",
              "discharge_disposition_id     int64\n",
              "payer_code                  object\n",
              "medical_specialty           object\n",
              "max_glu_serum               object\n",
              "A1Cresult                   object\n",
              "number_diagnoses             int64\n",
              "num_lab_procedures           int64\n",
              "num_procedures               int64\n",
              "num_medications              int64\n",
              "number_emergency             int64\n",
              "number_inpatient             int64\n",
              "number_outpatient            int64\n",
              "group_name_1                object\n",
              "group_name_2                object\n",
              "group_name_3                object\n",
              "readmission                 object\n",
              "dtype: object"
            ]
          },
          "metadata": {},
          "execution_count": 10
        }
      ],
      "source": [
        "# Checking the nature of our variables in Python\n",
        "hospital.dtypes"
      ]
    },
    {
      "cell_type": "markdown",
      "metadata": {
        "id": "7JKjF-9qX-u1"
      },
      "source": [
        "We can see that 'admission_type_id', 'discharge_disposition_id' and 'admission_source_id' are read in as continuous variables in our dataset. However, according to the Data Dictionary, these variables should be categorical.\n",
        "\n",
        "**Let's transform the variables 'admission_type_id', 'discharge_disposition_id' and 'admission_source_id' from continuous to categorical** (please note that regarding the data dictionary, these variables are categorical and not numerical). \n",
        "\n",
        "For this, we will create new variables: 'admission_type_id_cat', 'discharge_disposition_id_cat' and 'admission_source_id_cat'.\n",
        "\n",
        "Note: Alternatively, column types can be defined during data import. See [pandas documentation](https://pandas.pydata.org/pandas-docs/stable/reference/api/pandas.read_csv.html) for details"
      ]
    },
    {
      "cell_type": "code",
      "execution_count": 11,
      "metadata": {
        "id": "McWob19QX-u1"
      },
      "outputs": [],
      "source": [
        "# Changing variables from continuous to categorical\n",
        "hospital[['admission_type_id_cat','discharge_disposition_id_cat','admission_source_id_cat']] = hospital[['admission_type_id','discharge_disposition_id','admission_source_id' ]].astype('category')"
      ]
    },
    {
      "cell_type": "markdown",
      "metadata": {
        "id": "90_LzdifX-u2"
      },
      "source": [
        "Now that all the variables in our dataset are aligned with the Data Dictionary, we will drop the old variables 'admission_type_id', 'discharge_disposition_id' and 'admission_source_id'."
      ]
    },
    {
      "cell_type": "code",
      "execution_count": 12,
      "metadata": {
        "id": "S8EU50qXX-u2"
      },
      "outputs": [],
      "source": [
        "# Python command to drop variables: DataFrame.drop([column selection], axis=1)\n",
        "hospital = hospital.drop(['admission_type_id','discharge_disposition_id','admission_source_id'],axis=1)"
      ]
    },
    {
      "cell_type": "code",
      "execution_count": 13,
      "metadata": {
        "id": "s55jNWgvX-u3",
        "outputId": "200350d7-600c-495d-8fcc-af26df496579",
        "colab": {
          "base_uri": "https://localhost:8080/"
        }
      },
      "outputs": [
        {
          "output_type": "execute_result",
          "data": {
            "text/plain": [
              "patient_id                         int64\n",
              "los                                int64\n",
              "Age                                int64\n",
              "admission_id                       int64\n",
              "sex                               object\n",
              "weight                            object\n",
              "payer_code                        object\n",
              "medical_specialty                 object\n",
              "max_glu_serum                     object\n",
              "A1Cresult                         object\n",
              "number_diagnoses                   int64\n",
              "num_lab_procedures                 int64\n",
              "num_procedures                     int64\n",
              "num_medications                    int64\n",
              "number_emergency                   int64\n",
              "number_inpatient                   int64\n",
              "number_outpatient                  int64\n",
              "group_name_1                      object\n",
              "group_name_2                      object\n",
              "group_name_3                      object\n",
              "readmission                       object\n",
              "admission_type_id_cat           category\n",
              "discharge_disposition_id_cat    category\n",
              "admission_source_id_cat         category\n",
              "dtype: object"
            ]
          },
          "metadata": {},
          "execution_count": 13
        }
      ],
      "source": [
        "# Check\n",
        "hospital.dtypes"
      ]
    },
    {
      "cell_type": "markdown",
      "metadata": {
        "id": "upOyT2_7X-u4"
      },
      "source": [
        "### 5.2.1 Diagnosis Codes:  \n",
        "\n",
        "ICD-10 codes are the international codes used to classify diagnoses (e.g. diabetes mellitus). In Australia, we use an Australian version of the international ICD-10 codes, ICD-10-AM. For more information about ICD-10-AM classification, please visit [IHPA website](https://www.ihpa.gov.au/what-we-do/ICD-10-AM/ACHI/ACS-classification-system).\n",
        "\n",
        "The hospital dataset originally included three ICD-10 diagnosis codes. The first one referred to the primary diagnosis code, that is, the main reason for hospitalisations. However, patients usually have comorbidities, or multiple diagnoses. This is why, we had two more diagnoses recorded in this dataset. \n",
        "\n",
        "In this exercise, we removed the icd10 features 'icd10_d1', 'icd10_d2', and 'icd10_d3', the main reason being that these variables have many levels and only a few examples for each level.  Therefore, it would be very difficult for the algorithm to learn something useful.\n",
        "\n",
        "Including all the icd10 features would introduce too many dummy variables which we will go through creating dummy variables later in this course (approximately 2000 dummy variables arise from the icd10 features alone).\n",
        "As we will see, many Machine Learning algorithms introduce some limitation to the number of levels a variable can have. \n",
        "\n",
        "Instead, we will keep the variables **'group_name_1', 'group_name_2' and 'group_name_3'** which groups all ICD-10 levels in 10 categories ([check data dictionary for more information](https://github.com/CBDRH-HDAT9500/week01/blob/a96a5830df7f2cd90bcaf671f8f69a8b92a2947f/data/diabetes/Data_Dictionary.pdf))\n",
        "    \n",
        "<b> NB: </b> In future chapters, we will learn how to keep these variables via a new learned representation in a lower dimensionality (Chapter 7: Embeddings with Neural Networks)"
      ]
    },
    {
      "cell_type": "markdown",
      "metadata": {
        "id": "gvXDldoYX-u5"
      },
      "source": [
        "# 6. Step 4. Visualisation and exploration of our data\n",
        "\n",
        "\n",
        "First things first: **look at our data.** "
      ]
    },
    {
      "cell_type": "code",
      "execution_count": 14,
      "metadata": {
        "id": "5xbFxw1pX-u5",
        "outputId": "ee7254b8-db85-4ac1-bc7e-847ccfcd2bb6",
        "colab": {
          "base_uri": "https://localhost:8080/",
          "height": 299
        }
      },
      "outputs": [
        {
          "output_type": "execute_result",
          "data": {
            "text/plain": [
              "   patient_id  los  Age  admission_id     sex weight payer_code  \\\n",
              "0      360576    2   79      62781276  Female      ?          ?   \n",
              "1     8151831    5   59      49223976    Male      ?          ?   \n",
              "2    90219069    2   33     210634308  Female      ?         MD   \n",
              "3    54294840    6   42     163620402  Female      ?          ?   \n",
              "4     1634688    1   62      69055020    Male      ?          ?   \n",
              "\n",
              "  medical_specialty max_glu_serum A1Cresult  ...  number_emergency  \\\n",
              "0                 ?          None      None  ...                 0   \n",
              "1       Pulmonology          None        >8  ...                 0   \n",
              "2                 ?          None      None  ...                 1   \n",
              "3                 ?          None      None  ...                 0   \n",
              "4        Cardiology          None      None  ...                 0   \n",
              "\n",
              "   number_inpatient  number_outpatient           group_name_1  \\\n",
              "0                 0                  0                  Other   \n",
              "1                 0                  0              Endocrine   \n",
              "2                 0                  1                  Other   \n",
              "3                 0                  0             Infectious   \n",
              "4                 0                  0  Cardiac_&_circulatory   \n",
              "\n",
              "            group_name_2           group_name_3  readmission  \\\n",
              "0              Endocrine             Infectious           no   \n",
              "1  Cardiac_&_circulatory                  Other           no   \n",
              "2              Endocrine  Cardiac_&_circulatory           no   \n",
              "3            Respiratory              Endocrine           no   \n",
              "4  Cardiac_&_circulatory  Cardiac_&_circulatory           no   \n",
              "\n",
              "  admission_type_id_cat discharge_disposition_id_cat admission_source_id_cat  \n",
              "0                     3                           18                       7  \n",
              "1                     3                            1                       7  \n",
              "2                     3                            1                       7  \n",
              "3                     3                            6                       7  \n",
              "4                     3                            1                       7  \n",
              "\n",
              "[5 rows x 24 columns]"
            ],
            "text/html": [
              "\n",
              "  <div id=\"df-13f5f22b-9807-488b-9974-d81261b655f0\">\n",
              "    <div class=\"colab-df-container\">\n",
              "      <div>\n",
              "<style scoped>\n",
              "    .dataframe tbody tr th:only-of-type {\n",
              "        vertical-align: middle;\n",
              "    }\n",
              "\n",
              "    .dataframe tbody tr th {\n",
              "        vertical-align: top;\n",
              "    }\n",
              "\n",
              "    .dataframe thead th {\n",
              "        text-align: right;\n",
              "    }\n",
              "</style>\n",
              "<table border=\"1\" class=\"dataframe\">\n",
              "  <thead>\n",
              "    <tr style=\"text-align: right;\">\n",
              "      <th></th>\n",
              "      <th>patient_id</th>\n",
              "      <th>los</th>\n",
              "      <th>Age</th>\n",
              "      <th>admission_id</th>\n",
              "      <th>sex</th>\n",
              "      <th>weight</th>\n",
              "      <th>payer_code</th>\n",
              "      <th>medical_specialty</th>\n",
              "      <th>max_glu_serum</th>\n",
              "      <th>A1Cresult</th>\n",
              "      <th>...</th>\n",
              "      <th>number_emergency</th>\n",
              "      <th>number_inpatient</th>\n",
              "      <th>number_outpatient</th>\n",
              "      <th>group_name_1</th>\n",
              "      <th>group_name_2</th>\n",
              "      <th>group_name_3</th>\n",
              "      <th>readmission</th>\n",
              "      <th>admission_type_id_cat</th>\n",
              "      <th>discharge_disposition_id_cat</th>\n",
              "      <th>admission_source_id_cat</th>\n",
              "    </tr>\n",
              "  </thead>\n",
              "  <tbody>\n",
              "    <tr>\n",
              "      <th>0</th>\n",
              "      <td>360576</td>\n",
              "      <td>2</td>\n",
              "      <td>79</td>\n",
              "      <td>62781276</td>\n",
              "      <td>Female</td>\n",
              "      <td>?</td>\n",
              "      <td>?</td>\n",
              "      <td>?</td>\n",
              "      <td>None</td>\n",
              "      <td>None</td>\n",
              "      <td>...</td>\n",
              "      <td>0</td>\n",
              "      <td>0</td>\n",
              "      <td>0</td>\n",
              "      <td>Other</td>\n",
              "      <td>Endocrine</td>\n",
              "      <td>Infectious</td>\n",
              "      <td>no</td>\n",
              "      <td>3</td>\n",
              "      <td>18</td>\n",
              "      <td>7</td>\n",
              "    </tr>\n",
              "    <tr>\n",
              "      <th>1</th>\n",
              "      <td>8151831</td>\n",
              "      <td>5</td>\n",
              "      <td>59</td>\n",
              "      <td>49223976</td>\n",
              "      <td>Male</td>\n",
              "      <td>?</td>\n",
              "      <td>?</td>\n",
              "      <td>Pulmonology</td>\n",
              "      <td>None</td>\n",
              "      <td>&gt;8</td>\n",
              "      <td>...</td>\n",
              "      <td>0</td>\n",
              "      <td>0</td>\n",
              "      <td>0</td>\n",
              "      <td>Endocrine</td>\n",
              "      <td>Cardiac_&amp;_circulatory</td>\n",
              "      <td>Other</td>\n",
              "      <td>no</td>\n",
              "      <td>3</td>\n",
              "      <td>1</td>\n",
              "      <td>7</td>\n",
              "    </tr>\n",
              "    <tr>\n",
              "      <th>2</th>\n",
              "      <td>90219069</td>\n",
              "      <td>2</td>\n",
              "      <td>33</td>\n",
              "      <td>210634308</td>\n",
              "      <td>Female</td>\n",
              "      <td>?</td>\n",
              "      <td>MD</td>\n",
              "      <td>?</td>\n",
              "      <td>None</td>\n",
              "      <td>None</td>\n",
              "      <td>...</td>\n",
              "      <td>1</td>\n",
              "      <td>0</td>\n",
              "      <td>1</td>\n",
              "      <td>Other</td>\n",
              "      <td>Endocrine</td>\n",
              "      <td>Cardiac_&amp;_circulatory</td>\n",
              "      <td>no</td>\n",
              "      <td>3</td>\n",
              "      <td>1</td>\n",
              "      <td>7</td>\n",
              "    </tr>\n",
              "    <tr>\n",
              "      <th>3</th>\n",
              "      <td>54294840</td>\n",
              "      <td>6</td>\n",
              "      <td>42</td>\n",
              "      <td>163620402</td>\n",
              "      <td>Female</td>\n",
              "      <td>?</td>\n",
              "      <td>?</td>\n",
              "      <td>?</td>\n",
              "      <td>None</td>\n",
              "      <td>None</td>\n",
              "      <td>...</td>\n",
              "      <td>0</td>\n",
              "      <td>0</td>\n",
              "      <td>0</td>\n",
              "      <td>Infectious</td>\n",
              "      <td>Respiratory</td>\n",
              "      <td>Endocrine</td>\n",
              "      <td>no</td>\n",
              "      <td>3</td>\n",
              "      <td>6</td>\n",
              "      <td>7</td>\n",
              "    </tr>\n",
              "    <tr>\n",
              "      <th>4</th>\n",
              "      <td>1634688</td>\n",
              "      <td>1</td>\n",
              "      <td>62</td>\n",
              "      <td>69055020</td>\n",
              "      <td>Male</td>\n",
              "      <td>?</td>\n",
              "      <td>?</td>\n",
              "      <td>Cardiology</td>\n",
              "      <td>None</td>\n",
              "      <td>None</td>\n",
              "      <td>...</td>\n",
              "      <td>0</td>\n",
              "      <td>0</td>\n",
              "      <td>0</td>\n",
              "      <td>Cardiac_&amp;_circulatory</td>\n",
              "      <td>Cardiac_&amp;_circulatory</td>\n",
              "      <td>Cardiac_&amp;_circulatory</td>\n",
              "      <td>no</td>\n",
              "      <td>3</td>\n",
              "      <td>1</td>\n",
              "      <td>7</td>\n",
              "    </tr>\n",
              "  </tbody>\n",
              "</table>\n",
              "<p>5 rows × 24 columns</p>\n",
              "</div>\n",
              "      <button class=\"colab-df-convert\" onclick=\"convertToInteractive('df-13f5f22b-9807-488b-9974-d81261b655f0')\"\n",
              "              title=\"Convert this dataframe to an interactive table.\"\n",
              "              style=\"display:none;\">\n",
              "        \n",
              "  <svg xmlns=\"http://www.w3.org/2000/svg\" height=\"24px\"viewBox=\"0 0 24 24\"\n",
              "       width=\"24px\">\n",
              "    <path d=\"M0 0h24v24H0V0z\" fill=\"none\"/>\n",
              "    <path d=\"M18.56 5.44l.94 2.06.94-2.06 2.06-.94-2.06-.94-.94-2.06-.94 2.06-2.06.94zm-11 1L8.5 8.5l.94-2.06 2.06-.94-2.06-.94L8.5 2.5l-.94 2.06-2.06.94zm10 10l.94 2.06.94-2.06 2.06-.94-2.06-.94-.94-2.06-.94 2.06-2.06.94z\"/><path d=\"M17.41 7.96l-1.37-1.37c-.4-.4-.92-.59-1.43-.59-.52 0-1.04.2-1.43.59L10.3 9.45l-7.72 7.72c-.78.78-.78 2.05 0 2.83L4 21.41c.39.39.9.59 1.41.59.51 0 1.02-.2 1.41-.59l7.78-7.78 2.81-2.81c.8-.78.8-2.07 0-2.86zM5.41 20L4 18.59l7.72-7.72 1.47 1.35L5.41 20z\"/>\n",
              "  </svg>\n",
              "      </button>\n",
              "      \n",
              "  <style>\n",
              "    .colab-df-container {\n",
              "      display:flex;\n",
              "      flex-wrap:wrap;\n",
              "      gap: 12px;\n",
              "    }\n",
              "\n",
              "    .colab-df-convert {\n",
              "      background-color: #E8F0FE;\n",
              "      border: none;\n",
              "      border-radius: 50%;\n",
              "      cursor: pointer;\n",
              "      display: none;\n",
              "      fill: #1967D2;\n",
              "      height: 32px;\n",
              "      padding: 0 0 0 0;\n",
              "      width: 32px;\n",
              "    }\n",
              "\n",
              "    .colab-df-convert:hover {\n",
              "      background-color: #E2EBFA;\n",
              "      box-shadow: 0px 1px 2px rgba(60, 64, 67, 0.3), 0px 1px 3px 1px rgba(60, 64, 67, 0.15);\n",
              "      fill: #174EA6;\n",
              "    }\n",
              "\n",
              "    [theme=dark] .colab-df-convert {\n",
              "      background-color: #3B4455;\n",
              "      fill: #D2E3FC;\n",
              "    }\n",
              "\n",
              "    [theme=dark] .colab-df-convert:hover {\n",
              "      background-color: #434B5C;\n",
              "      box-shadow: 0px 1px 3px 1px rgba(0, 0, 0, 0.15);\n",
              "      filter: drop-shadow(0px 1px 2px rgba(0, 0, 0, 0.3));\n",
              "      fill: #FFFFFF;\n",
              "    }\n",
              "  </style>\n",
              "\n",
              "      <script>\n",
              "        const buttonEl =\n",
              "          document.querySelector('#df-13f5f22b-9807-488b-9974-d81261b655f0 button.colab-df-convert');\n",
              "        buttonEl.style.display =\n",
              "          google.colab.kernel.accessAllowed ? 'block' : 'none';\n",
              "\n",
              "        async function convertToInteractive(key) {\n",
              "          const element = document.querySelector('#df-13f5f22b-9807-488b-9974-d81261b655f0');\n",
              "          const dataTable =\n",
              "            await google.colab.kernel.invokeFunction('convertToInteractive',\n",
              "                                                     [key], {});\n",
              "          if (!dataTable) return;\n",
              "\n",
              "          const docLinkHtml = 'Like what you see? Visit the ' +\n",
              "            '<a target=\"_blank\" href=https://colab.research.google.com/notebooks/data_table.ipynb>data table notebook</a>'\n",
              "            + ' to learn more about interactive tables.';\n",
              "          element.innerHTML = '';\n",
              "          dataTable['output_type'] = 'display_data';\n",
              "          await google.colab.output.renderOutput(dataTable, element);\n",
              "          const docLink = document.createElement('div');\n",
              "          docLink.innerHTML = docLinkHtml;\n",
              "          element.appendChild(docLink);\n",
              "        }\n",
              "      </script>\n",
              "    </div>\n",
              "  </div>\n",
              "  "
            ]
          },
          "metadata": {},
          "execution_count": 14
        }
      ],
      "source": [
        "# We use 'DataFrame.head()' to visualise the first records of our dataset\n",
        "hospital.head()"
      ]
    },
    {
      "cell_type": "markdown",
      "metadata": {
        "id": "HvVrLMatX-u6"
      },
      "source": [
        "For prediction purposes, we are not interested in the first two columns (admission_id and patient_id), which are just identifiers. Therefore, we will drop these variables from our dataset. Do you agree? Why do we have to delete these variables? Python command: `DataFrame.drop([column names],axis=1)`\n",
        "\n",
        "[More information](https://pandas.pydata.org/pandas-docs/stable/reference/api/pandas.DataFrame.drop.html)"
      ]
    },
    {
      "cell_type": "code",
      "execution_count": 15,
      "metadata": {
        "id": "BJifxNVuX-u6"
      },
      "outputs": [],
      "source": [
        "# We drop 'admission_id' and 'patient_id' by using the command: DataFrame.drop([column selection], axis=1)\n",
        "hospital = hospital.drop(['admission_id', 'patient_id'], axis = 1)"
      ]
    },
    {
      "cell_type": "code",
      "execution_count": 16,
      "metadata": {
        "id": "Euh9tc3zX-u6"
      },
      "outputs": [],
      "source": [
        "# Sanity check\n",
        "# hospital.head()"
      ]
    },
    {
      "cell_type": "markdown",
      "metadata": {
        "id": "hX5YsA1DX-u6"
      },
      "source": [
        "## 6.1 Column and row selection\n",
        "\n",
        "We select some of the columns to **look at our data**. \n",
        "\n",
        "* `DataFrame.iloc`: Purely integer-location based indexing for selection by position. [See pandas documentation](https://pandas.pydata.org/pandas-docs/stable/reference/api/pandas.DataFrame.iloc.html)\n",
        "\n",
        "We use **iloc** to access specific records and columns, by using the command: `DataFrame.iloc[row selection, colummn selection]`. [Source documentation.](https://www.shanelynn.ie/select-pandas-dataframe-rows-and-columns-using-iloc-loc-and-ix/)"
      ]
    },
    {
      "cell_type": "code",
      "execution_count": 17,
      "metadata": {
        "id": "KZKd1o9fX-u7",
        "outputId": "3214cb2c-c255-4d47-bc34-84b798fff5b0",
        "colab": {
          "base_uri": "https://localhost:8080/"
        }
      },
      "outputs": [
        {
          "output_type": "stream",
          "name": "stdout",
          "text": [
            "    los  Age     sex weight payer_code\n",
            "0     2   79  Female      ?          ?\n",
            "1     5   59    Male      ?          ?\n",
            "2     2   33  Female      ?         MD\n",
            "3     6   42  Female      ?          ?\n",
            "4     1   62    Male      ?          ?\n",
            "5     1   53  Female      ?         HM\n",
            "6    10   80  Female      ?          ?\n",
            "7     2   44    Male      ?          ?\n",
            "8     1   73    Male      ?         MC\n",
            "9     4   64  Female      ?          ?\n",
            "10    4   61  Female      ?          ?\n",
            "11    7   65  Female      ?          ?\n",
            "12    4   86    Male      ?         MC\n",
            "13    1   52  Female      ?         SP\n",
            "14    2   58  Female      ?          ?\n",
            "15    3   84  Female      ?          ?\n",
            "16    3   69    Male      ?         OG\n",
            "17    2   57    Male      ?          ?\n",
            "18    2   43    Male      ?         OG\n",
            "19    4   80  Female      ?         MC\n"
          ]
        }
      ],
      "source": [
        "# DataFrame.iloc[row selection,column selection]\n",
        "print(hospital.iloc[0:20,0:5])   # Selecting the first 20 rows and columns 0 to 5 from 'hospital' data"
      ]
    },
    {
      "cell_type": "markdown",
      "metadata": {
        "id": "NXhHZ94wX-u7"
      },
      "source": [
        "* `DataFrame.loc`: The *loc* indexer can be used to select rows by label/index or to select rows with a boolean/conditional lookup. [See pandas documentation](https://pandas.pydata.org/pandas-docs/stable/reference/api/pandas.DataFrame.loc.html)\n",
        "\n",
        "As the *iloc* indexer, the command of **loc** is: `DataFrame.loc[row selection, colummn selection]` [Source](https://www.shanelynn.ie/select-pandas-dataframe-rows-and-columns-using-iloc-loc-and-ix/)"
      ]
    },
    {
      "cell_type": "code",
      "execution_count": 18,
      "metadata": {
        "id": "e27eItihX-u7",
        "outputId": "080922b2-4ec6-4123-8bd3-04af2d475763",
        "colab": {
          "base_uri": "https://localhost:8080/"
        }
      },
      "outputs": [
        {
          "output_type": "stream",
          "name": "stdout",
          "text": [
            "       sex weight payer_code medical_specialty\n",
            "0   Female      ?          ?                 ?\n",
            "1     Male      ?          ?       Pulmonology\n",
            "2   Female      ?         MD                 ?\n",
            "3   Female      ?          ?                 ?\n",
            "4     Male      ?          ?        Cardiology\n",
            "5   Female      ?         HM                 ?\n",
            "6   Female      ?          ?        Nephrology\n",
            "7     Male      ?          ?           Urology\n",
            "8     Male      ?         MC                 ?\n",
            "9   Female      ?          ?       Orthopedics\n",
            "10  Female      ?          ?                 ?\n",
            "11  Female      ?          ?                 ?\n",
            "12    Male      ?         MC                 ?\n",
            "13  Female      ?         SP  InternalMedicine\n",
            "14  Female      ?          ?                 ?\n",
            "15  Female      ?          ?  InternalMedicine\n",
            "16    Male      ?         OG  Emergency/Trauma\n",
            "17    Male      ?          ?                 ?\n",
            "18    Male      ?         OG                 ?\n",
            "19  Female      ?         MC  InternalMedicine\n",
            "20  Female      ?         MC                 ?\n"
          ]
        }
      ],
      "source": [
        "# DataFrame.loc[row selection,column selection]\n",
        "print(hospital.loc[0:20,'sex':'medical_specialty']) #Selecting the first 20 rows for columns 'sex' to 'medical_specialty' "
      ]
    },
    {
      "cell_type": "markdown",
      "metadata": {
        "id": "RUMJTgUSX-u8"
      },
      "source": [
        "Missing values can be observed for the variables 'weight', 'payer_code' and 'medical_specialty'. We will explore our dataset in greater depth in the following steps."
      ]
    },
    {
      "cell_type": "markdown",
      "metadata": {
        "id": "o9UgaefyX-u8"
      },
      "source": [
        "## 6.2 Descriptive statistics\n",
        "\n",
        "The command `DataFrame.describe()` generates descriptive statistics that summarise the content of our dataset:\n",
        "\n",
        "1. `DataFrame.describe()`: only includes continuous variables\n",
        "2. `DataFrame.describe(include='all')`: continuous and categorical variables\n",
        " \n",
        "[More information](https://pandas.pydata.org/pandas-docs/stable/generated/pandas.DataFrame.describe.html)"
      ]
    },
    {
      "cell_type": "markdown",
      "metadata": {
        "id": "Rrg7psPKX-u8"
      },
      "source": [
        "### 6.2.1 Statistics of all the features\n",
        "Let's use the Python command `DataFrame.describe(include='all')` to see the statistics of **all the categorical and continuous/numeric variables** recorded in our dataset. \n",
        "\n",
        "Please note that the Data Dictionary is located in the folder: [data/diabetes/Data_Dictionary.pdf](./https://github.com/CBDRH-HDAT9500/week01/blob/a96a5830df7f2cd90bcaf671f8f69a8b92a2947f/data/diabetes/Data_Dictionary.pdf)"
      ]
    },
    {
      "cell_type": "code",
      "execution_count": 19,
      "metadata": {
        "id": "ccd9TP0fX-u-",
        "outputId": "90067cf5-946b-424b-eef7-6f9191887a77",
        "colab": {
          "base_uri": "https://localhost:8080/",
          "height": 488
        }
      },
      "outputs": [
        {
          "output_type": "execute_result",
          "data": {
            "text/plain": [
              "                 los           Age     sex weight payer_code  \\\n",
              "count   69270.000000  69270.000000   69270  69270      69270   \n",
              "unique           NaN           NaN       3     10         18   \n",
              "top              NaN           NaN  Female      ?          ?   \n",
              "freq             NaN           NaN   36841  66504      29912   \n",
              "mean        6.155291     67.281363     NaN    NaN        NaN   \n",
              "std         5.240160     16.149080     NaN    NaN        NaN   \n",
              "min         1.000000     20.000000     NaN    NaN        NaN   \n",
              "25%         2.000000     56.000000     NaN    NaN        NaN   \n",
              "50%         4.000000     69.000000     NaN    NaN        NaN   \n",
              "75%         9.000000     79.000000     NaN    NaN        NaN   \n",
              "max        29.000000    114.000000     NaN    NaN        NaN   \n",
              "\n",
              "       medical_specialty max_glu_serum A1Cresult  number_diagnoses  \\\n",
              "count              69270         69270     69270      69270.000000   \n",
              "unique                63             4         4               NaN   \n",
              "top                    ?          None      None               NaN   \n",
              "freq               33422         65941     56785               NaN   \n",
              "mean                 NaN           NaN       NaN          7.620312   \n",
              "std                  NaN           NaN       NaN          2.326690   \n",
              "min                  NaN           NaN       NaN          1.000000   \n",
              "25%                  NaN           NaN       NaN          6.000000   \n",
              "50%                  NaN           NaN       NaN          8.000000   \n",
              "75%                  NaN           NaN       NaN          9.000000   \n",
              "max                  NaN           NaN       NaN         21.000000   \n",
              "\n",
              "        num_lab_procedures  ...  number_emergency  number_inpatient  \\\n",
              "count         69270.000000  ...      69270.000000      69270.000000   \n",
              "unique                 NaN  ...               NaN               NaN   \n",
              "top                    NaN  ...               NaN               NaN   \n",
              "freq                   NaN  ...               NaN               NaN   \n",
              "mean             43.111304  ...          0.282951          0.221005   \n",
              "std              19.925551  ...          0.883800          0.650016   \n",
              "min               1.000000  ...          0.000000          0.000000   \n",
              "25%              31.000000  ...          0.000000          0.000000   \n",
              "50%              44.000000  ...          0.000000          0.000000   \n",
              "75%              57.000000  ...          0.000000          0.000000   \n",
              "max             135.000000  ...         42.000000         13.000000   \n",
              "\n",
              "        number_outpatient           group_name_1           group_name_2  \\\n",
              "count        69270.000000                  69270                  69270   \n",
              "unique                NaN                     10                     10   \n",
              "top                   NaN  Cardiac_&_circulatory  Cardiac_&_circulatory   \n",
              "freq                  NaN                  20407                  21620   \n",
              "mean             0.774852                    NaN                    NaN   \n",
              "std              2.022062                    NaN                    NaN   \n",
              "min              0.000000                    NaN                    NaN   \n",
              "25%              0.000000                    NaN                    NaN   \n",
              "50%              0.000000                    NaN                    NaN   \n",
              "75%              0.000000                    NaN                    NaN   \n",
              "max             42.000000                    NaN                    NaN   \n",
              "\n",
              "                 group_name_3 readmission admission_type_id_cat  \\\n",
              "count                   69270       69270               69270.0   \n",
              "unique                     10           2                   7.0   \n",
              "top     Cardiac_&_circulatory          no                   1.0   \n",
              "freq                    20418       57351               25933.0   \n",
              "mean                      NaN         NaN                   NaN   \n",
              "std                       NaN         NaN                   NaN   \n",
              "min                       NaN         NaN                   NaN   \n",
              "25%                       NaN         NaN                   NaN   \n",
              "50%                       NaN         NaN                   NaN   \n",
              "75%                       NaN         NaN                   NaN   \n",
              "max                       NaN         NaN                   NaN   \n",
              "\n",
              "       discharge_disposition_id_cat  admission_source_id_cat  \n",
              "count                       69270.0                  69270.0  \n",
              "unique                         20.0                     14.0  \n",
              "top                             1.0                      7.0  \n",
              "freq                        43689.0                  44510.0  \n",
              "mean                            NaN                      NaN  \n",
              "std                             NaN                      NaN  \n",
              "min                             NaN                      NaN  \n",
              "25%                             NaN                      NaN  \n",
              "50%                             NaN                      NaN  \n",
              "75%                             NaN                      NaN  \n",
              "max                             NaN                      NaN  \n",
              "\n",
              "[11 rows x 22 columns]"
            ],
            "text/html": [
              "\n",
              "  <div id=\"df-e178920b-7ab4-4dc5-98f7-4df88d7d06d3\">\n",
              "    <div class=\"colab-df-container\">\n",
              "      <div>\n",
              "<style scoped>\n",
              "    .dataframe tbody tr th:only-of-type {\n",
              "        vertical-align: middle;\n",
              "    }\n",
              "\n",
              "    .dataframe tbody tr th {\n",
              "        vertical-align: top;\n",
              "    }\n",
              "\n",
              "    .dataframe thead th {\n",
              "        text-align: right;\n",
              "    }\n",
              "</style>\n",
              "<table border=\"1\" class=\"dataframe\">\n",
              "  <thead>\n",
              "    <tr style=\"text-align: right;\">\n",
              "      <th></th>\n",
              "      <th>los</th>\n",
              "      <th>Age</th>\n",
              "      <th>sex</th>\n",
              "      <th>weight</th>\n",
              "      <th>payer_code</th>\n",
              "      <th>medical_specialty</th>\n",
              "      <th>max_glu_serum</th>\n",
              "      <th>A1Cresult</th>\n",
              "      <th>number_diagnoses</th>\n",
              "      <th>num_lab_procedures</th>\n",
              "      <th>...</th>\n",
              "      <th>number_emergency</th>\n",
              "      <th>number_inpatient</th>\n",
              "      <th>number_outpatient</th>\n",
              "      <th>group_name_1</th>\n",
              "      <th>group_name_2</th>\n",
              "      <th>group_name_3</th>\n",
              "      <th>readmission</th>\n",
              "      <th>admission_type_id_cat</th>\n",
              "      <th>discharge_disposition_id_cat</th>\n",
              "      <th>admission_source_id_cat</th>\n",
              "    </tr>\n",
              "  </thead>\n",
              "  <tbody>\n",
              "    <tr>\n",
              "      <th>count</th>\n",
              "      <td>69270.000000</td>\n",
              "      <td>69270.000000</td>\n",
              "      <td>69270</td>\n",
              "      <td>69270</td>\n",
              "      <td>69270</td>\n",
              "      <td>69270</td>\n",
              "      <td>69270</td>\n",
              "      <td>69270</td>\n",
              "      <td>69270.000000</td>\n",
              "      <td>69270.000000</td>\n",
              "      <td>...</td>\n",
              "      <td>69270.000000</td>\n",
              "      <td>69270.000000</td>\n",
              "      <td>69270.000000</td>\n",
              "      <td>69270</td>\n",
              "      <td>69270</td>\n",
              "      <td>69270</td>\n",
              "      <td>69270</td>\n",
              "      <td>69270.0</td>\n",
              "      <td>69270.0</td>\n",
              "      <td>69270.0</td>\n",
              "    </tr>\n",
              "    <tr>\n",
              "      <th>unique</th>\n",
              "      <td>NaN</td>\n",
              "      <td>NaN</td>\n",
              "      <td>3</td>\n",
              "      <td>10</td>\n",
              "      <td>18</td>\n",
              "      <td>63</td>\n",
              "      <td>4</td>\n",
              "      <td>4</td>\n",
              "      <td>NaN</td>\n",
              "      <td>NaN</td>\n",
              "      <td>...</td>\n",
              "      <td>NaN</td>\n",
              "      <td>NaN</td>\n",
              "      <td>NaN</td>\n",
              "      <td>10</td>\n",
              "      <td>10</td>\n",
              "      <td>10</td>\n",
              "      <td>2</td>\n",
              "      <td>7.0</td>\n",
              "      <td>20.0</td>\n",
              "      <td>14.0</td>\n",
              "    </tr>\n",
              "    <tr>\n",
              "      <th>top</th>\n",
              "      <td>NaN</td>\n",
              "      <td>NaN</td>\n",
              "      <td>Female</td>\n",
              "      <td>?</td>\n",
              "      <td>?</td>\n",
              "      <td>?</td>\n",
              "      <td>None</td>\n",
              "      <td>None</td>\n",
              "      <td>NaN</td>\n",
              "      <td>NaN</td>\n",
              "      <td>...</td>\n",
              "      <td>NaN</td>\n",
              "      <td>NaN</td>\n",
              "      <td>NaN</td>\n",
              "      <td>Cardiac_&amp;_circulatory</td>\n",
              "      <td>Cardiac_&amp;_circulatory</td>\n",
              "      <td>Cardiac_&amp;_circulatory</td>\n",
              "      <td>no</td>\n",
              "      <td>1.0</td>\n",
              "      <td>1.0</td>\n",
              "      <td>7.0</td>\n",
              "    </tr>\n",
              "    <tr>\n",
              "      <th>freq</th>\n",
              "      <td>NaN</td>\n",
              "      <td>NaN</td>\n",
              "      <td>36841</td>\n",
              "      <td>66504</td>\n",
              "      <td>29912</td>\n",
              "      <td>33422</td>\n",
              "      <td>65941</td>\n",
              "      <td>56785</td>\n",
              "      <td>NaN</td>\n",
              "      <td>NaN</td>\n",
              "      <td>...</td>\n",
              "      <td>NaN</td>\n",
              "      <td>NaN</td>\n",
              "      <td>NaN</td>\n",
              "      <td>20407</td>\n",
              "      <td>21620</td>\n",
              "      <td>20418</td>\n",
              "      <td>57351</td>\n",
              "      <td>25933.0</td>\n",
              "      <td>43689.0</td>\n",
              "      <td>44510.0</td>\n",
              "    </tr>\n",
              "    <tr>\n",
              "      <th>mean</th>\n",
              "      <td>6.155291</td>\n",
              "      <td>67.281363</td>\n",
              "      <td>NaN</td>\n",
              "      <td>NaN</td>\n",
              "      <td>NaN</td>\n",
              "      <td>NaN</td>\n",
              "      <td>NaN</td>\n",
              "      <td>NaN</td>\n",
              "      <td>7.620312</td>\n",
              "      <td>43.111304</td>\n",
              "      <td>...</td>\n",
              "      <td>0.282951</td>\n",
              "      <td>0.221005</td>\n",
              "      <td>0.774852</td>\n",
              "      <td>NaN</td>\n",
              "      <td>NaN</td>\n",
              "      <td>NaN</td>\n",
              "      <td>NaN</td>\n",
              "      <td>NaN</td>\n",
              "      <td>NaN</td>\n",
              "      <td>NaN</td>\n",
              "    </tr>\n",
              "    <tr>\n",
              "      <th>std</th>\n",
              "      <td>5.240160</td>\n",
              "      <td>16.149080</td>\n",
              "      <td>NaN</td>\n",
              "      <td>NaN</td>\n",
              "      <td>NaN</td>\n",
              "      <td>NaN</td>\n",
              "      <td>NaN</td>\n",
              "      <td>NaN</td>\n",
              "      <td>2.326690</td>\n",
              "      <td>19.925551</td>\n",
              "      <td>...</td>\n",
              "      <td>0.883800</td>\n",
              "      <td>0.650016</td>\n",
              "      <td>2.022062</td>\n",
              "      <td>NaN</td>\n",
              "      <td>NaN</td>\n",
              "      <td>NaN</td>\n",
              "      <td>NaN</td>\n",
              "      <td>NaN</td>\n",
              "      <td>NaN</td>\n",
              "      <td>NaN</td>\n",
              "    </tr>\n",
              "    <tr>\n",
              "      <th>min</th>\n",
              "      <td>1.000000</td>\n",
              "      <td>20.000000</td>\n",
              "      <td>NaN</td>\n",
              "      <td>NaN</td>\n",
              "      <td>NaN</td>\n",
              "      <td>NaN</td>\n",
              "      <td>NaN</td>\n",
              "      <td>NaN</td>\n",
              "      <td>1.000000</td>\n",
              "      <td>1.000000</td>\n",
              "      <td>...</td>\n",
              "      <td>0.000000</td>\n",
              "      <td>0.000000</td>\n",
              "      <td>0.000000</td>\n",
              "      <td>NaN</td>\n",
              "      <td>NaN</td>\n",
              "      <td>NaN</td>\n",
              "      <td>NaN</td>\n",
              "      <td>NaN</td>\n",
              "      <td>NaN</td>\n",
              "      <td>NaN</td>\n",
              "    </tr>\n",
              "    <tr>\n",
              "      <th>25%</th>\n",
              "      <td>2.000000</td>\n",
              "      <td>56.000000</td>\n",
              "      <td>NaN</td>\n",
              "      <td>NaN</td>\n",
              "      <td>NaN</td>\n",
              "      <td>NaN</td>\n",
              "      <td>NaN</td>\n",
              "      <td>NaN</td>\n",
              "      <td>6.000000</td>\n",
              "      <td>31.000000</td>\n",
              "      <td>...</td>\n",
              "      <td>0.000000</td>\n",
              "      <td>0.000000</td>\n",
              "      <td>0.000000</td>\n",
              "      <td>NaN</td>\n",
              "      <td>NaN</td>\n",
              "      <td>NaN</td>\n",
              "      <td>NaN</td>\n",
              "      <td>NaN</td>\n",
              "      <td>NaN</td>\n",
              "      <td>NaN</td>\n",
              "    </tr>\n",
              "    <tr>\n",
              "      <th>50%</th>\n",
              "      <td>4.000000</td>\n",
              "      <td>69.000000</td>\n",
              "      <td>NaN</td>\n",
              "      <td>NaN</td>\n",
              "      <td>NaN</td>\n",
              "      <td>NaN</td>\n",
              "      <td>NaN</td>\n",
              "      <td>NaN</td>\n",
              "      <td>8.000000</td>\n",
              "      <td>44.000000</td>\n",
              "      <td>...</td>\n",
              "      <td>0.000000</td>\n",
              "      <td>0.000000</td>\n",
              "      <td>0.000000</td>\n",
              "      <td>NaN</td>\n",
              "      <td>NaN</td>\n",
              "      <td>NaN</td>\n",
              "      <td>NaN</td>\n",
              "      <td>NaN</td>\n",
              "      <td>NaN</td>\n",
              "      <td>NaN</td>\n",
              "    </tr>\n",
              "    <tr>\n",
              "      <th>75%</th>\n",
              "      <td>9.000000</td>\n",
              "      <td>79.000000</td>\n",
              "      <td>NaN</td>\n",
              "      <td>NaN</td>\n",
              "      <td>NaN</td>\n",
              "      <td>NaN</td>\n",
              "      <td>NaN</td>\n",
              "      <td>NaN</td>\n",
              "      <td>9.000000</td>\n",
              "      <td>57.000000</td>\n",
              "      <td>...</td>\n",
              "      <td>0.000000</td>\n",
              "      <td>0.000000</td>\n",
              "      <td>0.000000</td>\n",
              "      <td>NaN</td>\n",
              "      <td>NaN</td>\n",
              "      <td>NaN</td>\n",
              "      <td>NaN</td>\n",
              "      <td>NaN</td>\n",
              "      <td>NaN</td>\n",
              "      <td>NaN</td>\n",
              "    </tr>\n",
              "    <tr>\n",
              "      <th>max</th>\n",
              "      <td>29.000000</td>\n",
              "      <td>114.000000</td>\n",
              "      <td>NaN</td>\n",
              "      <td>NaN</td>\n",
              "      <td>NaN</td>\n",
              "      <td>NaN</td>\n",
              "      <td>NaN</td>\n",
              "      <td>NaN</td>\n",
              "      <td>21.000000</td>\n",
              "      <td>135.000000</td>\n",
              "      <td>...</td>\n",
              "      <td>42.000000</td>\n",
              "      <td>13.000000</td>\n",
              "      <td>42.000000</td>\n",
              "      <td>NaN</td>\n",
              "      <td>NaN</td>\n",
              "      <td>NaN</td>\n",
              "      <td>NaN</td>\n",
              "      <td>NaN</td>\n",
              "      <td>NaN</td>\n",
              "      <td>NaN</td>\n",
              "    </tr>\n",
              "  </tbody>\n",
              "</table>\n",
              "<p>11 rows × 22 columns</p>\n",
              "</div>\n",
              "      <button class=\"colab-df-convert\" onclick=\"convertToInteractive('df-e178920b-7ab4-4dc5-98f7-4df88d7d06d3')\"\n",
              "              title=\"Convert this dataframe to an interactive table.\"\n",
              "              style=\"display:none;\">\n",
              "        \n",
              "  <svg xmlns=\"http://www.w3.org/2000/svg\" height=\"24px\"viewBox=\"0 0 24 24\"\n",
              "       width=\"24px\">\n",
              "    <path d=\"M0 0h24v24H0V0z\" fill=\"none\"/>\n",
              "    <path d=\"M18.56 5.44l.94 2.06.94-2.06 2.06-.94-2.06-.94-.94-2.06-.94 2.06-2.06.94zm-11 1L8.5 8.5l.94-2.06 2.06-.94-2.06-.94L8.5 2.5l-.94 2.06-2.06.94zm10 10l.94 2.06.94-2.06 2.06-.94-2.06-.94-.94-2.06-.94 2.06-2.06.94z\"/><path d=\"M17.41 7.96l-1.37-1.37c-.4-.4-.92-.59-1.43-.59-.52 0-1.04.2-1.43.59L10.3 9.45l-7.72 7.72c-.78.78-.78 2.05 0 2.83L4 21.41c.39.39.9.59 1.41.59.51 0 1.02-.2 1.41-.59l7.78-7.78 2.81-2.81c.8-.78.8-2.07 0-2.86zM5.41 20L4 18.59l7.72-7.72 1.47 1.35L5.41 20z\"/>\n",
              "  </svg>\n",
              "      </button>\n",
              "      \n",
              "  <style>\n",
              "    .colab-df-container {\n",
              "      display:flex;\n",
              "      flex-wrap:wrap;\n",
              "      gap: 12px;\n",
              "    }\n",
              "\n",
              "    .colab-df-convert {\n",
              "      background-color: #E8F0FE;\n",
              "      border: none;\n",
              "      border-radius: 50%;\n",
              "      cursor: pointer;\n",
              "      display: none;\n",
              "      fill: #1967D2;\n",
              "      height: 32px;\n",
              "      padding: 0 0 0 0;\n",
              "      width: 32px;\n",
              "    }\n",
              "\n",
              "    .colab-df-convert:hover {\n",
              "      background-color: #E2EBFA;\n",
              "      box-shadow: 0px 1px 2px rgba(60, 64, 67, 0.3), 0px 1px 3px 1px rgba(60, 64, 67, 0.15);\n",
              "      fill: #174EA6;\n",
              "    }\n",
              "\n",
              "    [theme=dark] .colab-df-convert {\n",
              "      background-color: #3B4455;\n",
              "      fill: #D2E3FC;\n",
              "    }\n",
              "\n",
              "    [theme=dark] .colab-df-convert:hover {\n",
              "      background-color: #434B5C;\n",
              "      box-shadow: 0px 1px 3px 1px rgba(0, 0, 0, 0.15);\n",
              "      filter: drop-shadow(0px 1px 2px rgba(0, 0, 0, 0.3));\n",
              "      fill: #FFFFFF;\n",
              "    }\n",
              "  </style>\n",
              "\n",
              "      <script>\n",
              "        const buttonEl =\n",
              "          document.querySelector('#df-e178920b-7ab4-4dc5-98f7-4df88d7d06d3 button.colab-df-convert');\n",
              "        buttonEl.style.display =\n",
              "          google.colab.kernel.accessAllowed ? 'block' : 'none';\n",
              "\n",
              "        async function convertToInteractive(key) {\n",
              "          const element = document.querySelector('#df-e178920b-7ab4-4dc5-98f7-4df88d7d06d3');\n",
              "          const dataTable =\n",
              "            await google.colab.kernel.invokeFunction('convertToInteractive',\n",
              "                                                     [key], {});\n",
              "          if (!dataTable) return;\n",
              "\n",
              "          const docLinkHtml = 'Like what you see? Visit the ' +\n",
              "            '<a target=\"_blank\" href=https://colab.research.google.com/notebooks/data_table.ipynb>data table notebook</a>'\n",
              "            + ' to learn more about interactive tables.';\n",
              "          element.innerHTML = '';\n",
              "          dataTable['output_type'] = 'display_data';\n",
              "          await google.colab.output.renderOutput(dataTable, element);\n",
              "          const docLink = document.createElement('div');\n",
              "          docLink.innerHTML = docLinkHtml;\n",
              "          element.appendChild(docLink);\n",
              "        }\n",
              "      </script>\n",
              "    </div>\n",
              "  </div>\n",
              "  "
            ]
          },
          "metadata": {},
          "execution_count": 19
        }
      ],
      "source": [
        "# Statistics of all the variables in our dataset\n",
        "hospital.describe(include='all')"
      ]
    },
    {
      "cell_type": "markdown",
      "metadata": {
        "id": "bM3TerGdX-u-"
      },
      "source": [
        "As we can see, this information is not very useful for the purpose of this exercise, which is to predict patients at risk of readmission after discharge. Therefore, we will analyse the descriptive statistics of our features regarding readmission: 'yes' and 'no'.\n",
        "\n",
        "### 6.2.2 Statistics of all the features regarding 'readmission'"
      ]
    },
    {
      "cell_type": "code",
      "execution_count": 20,
      "metadata": {
        "id": "CtrgEijpX-u-",
        "outputId": "4ff33147-f236-4eb1-ac4b-c0f1f1170557",
        "colab": {
          "base_uri": "https://localhost:8080/",
          "height": 488
        }
      },
      "outputs": [
        {
          "output_type": "execute_result",
          "data": {
            "text/plain": [
              "                 los           Age     sex weight payer_code  \\\n",
              "count   11919.000000  11919.000000   11919  11919      11919   \n",
              "unique           NaN           NaN       2     10         17   \n",
              "top              NaN           NaN  Female      ?          ?   \n",
              "freq             NaN           NaN    6402  11393       5445   \n",
              "mean       15.340800     77.094219     NaN    NaN        NaN   \n",
              "std         4.054148     15.840462     NaN    NaN        NaN   \n",
              "min         9.000000     27.000000     NaN    NaN        NaN   \n",
              "25%        12.000000     67.000000     NaN    NaN        NaN   \n",
              "50%        15.000000     79.000000     NaN    NaN        NaN   \n",
              "75%        18.000000     89.000000     NaN    NaN        NaN   \n",
              "max        29.000000    114.000000     NaN    NaN        NaN   \n",
              "\n",
              "       medical_specialty max_glu_serum A1Cresult  number_diagnoses  \\\n",
              "count              11919         11919     11919      11919.000000   \n",
              "unique                46             4         4               NaN   \n",
              "top                    ?          None      None               NaN   \n",
              "freq                5828         11278      9794               NaN   \n",
              "mean                 NaN           NaN       NaN          9.468412   \n",
              "std                  NaN           NaN       NaN          2.930959   \n",
              "min                  NaN           NaN       NaN          1.000000   \n",
              "25%                  NaN           NaN       NaN          8.000000   \n",
              "50%                  NaN           NaN       NaN          9.000000   \n",
              "75%                  NaN           NaN       NaN         12.000000   \n",
              "max                  NaN           NaN       NaN         21.000000   \n",
              "\n",
              "        num_lab_procedures  ...  number_emergency  number_inpatient  \\\n",
              "count         11919.000000  ...      11919.000000      11919.000000   \n",
              "unique                 NaN  ...               NaN               NaN   \n",
              "top                    NaN  ...               NaN               NaN   \n",
              "freq                   NaN  ...               NaN               NaN   \n",
              "mean             45.057723  ...          1.169897          0.522863   \n",
              "std              19.870622  ...          1.544033          0.949272   \n",
              "min               1.000000  ...          0.000000          0.000000   \n",
              "25%              33.000000  ...          0.000000          0.000000   \n",
              "50%              46.000000  ...          0.000000          0.000000   \n",
              "75%              59.000000  ...          2.000000          1.000000   \n",
              "max             135.000000  ...         25.000000         13.000000   \n",
              "\n",
              "        number_outpatient           group_name_1           group_name_2  \\\n",
              "count        11919.000000                  11919                  11919   \n",
              "unique                NaN                     10                     10   \n",
              "top                   NaN  Cardiac_&_circulatory  Cardiac_&_circulatory   \n",
              "freq                  NaN                   3598                   3767   \n",
              "mean             3.164276                    NaN                    NaN   \n",
              "std              3.374588                    NaN                    NaN   \n",
              "min              0.000000                    NaN                    NaN   \n",
              "25%              0.000000                    NaN                    NaN   \n",
              "50%              2.000000                    NaN                    NaN   \n",
              "75%              6.000000                    NaN                    NaN   \n",
              "max             36.000000                    NaN                    NaN   \n",
              "\n",
              "                 group_name_3 readmission admission_type_id_cat  \\\n",
              "count                   11919       11919               11919.0   \n",
              "unique                     10           1                   7.0   \n",
              "top     Cardiac_&_circulatory         yes                   1.0   \n",
              "freq                     3535       11919                8577.0   \n",
              "mean                      NaN         NaN                   NaN   \n",
              "std                       NaN         NaN                   NaN   \n",
              "min                       NaN         NaN                   NaN   \n",
              "25%                       NaN         NaN                   NaN   \n",
              "50%                       NaN         NaN                   NaN   \n",
              "75%                       NaN         NaN                   NaN   \n",
              "max                       NaN         NaN                   NaN   \n",
              "\n",
              "       discharge_disposition_id_cat  admission_source_id_cat  \n",
              "count                       11919.0                  11919.0  \n",
              "unique                         17.0                     11.0  \n",
              "top                             1.0                      7.0  \n",
              "freq                         6704.0                   8491.0  \n",
              "mean                            NaN                      NaN  \n",
              "std                             NaN                      NaN  \n",
              "min                             NaN                      NaN  \n",
              "25%                             NaN                      NaN  \n",
              "50%                             NaN                      NaN  \n",
              "75%                             NaN                      NaN  \n",
              "max                             NaN                      NaN  \n",
              "\n",
              "[11 rows x 22 columns]"
            ],
            "text/html": [
              "\n",
              "  <div id=\"df-c3fb2a53-a4db-4192-9b53-aa1b412d8bfa\">\n",
              "    <div class=\"colab-df-container\">\n",
              "      <div>\n",
              "<style scoped>\n",
              "    .dataframe tbody tr th:only-of-type {\n",
              "        vertical-align: middle;\n",
              "    }\n",
              "\n",
              "    .dataframe tbody tr th {\n",
              "        vertical-align: top;\n",
              "    }\n",
              "\n",
              "    .dataframe thead th {\n",
              "        text-align: right;\n",
              "    }\n",
              "</style>\n",
              "<table border=\"1\" class=\"dataframe\">\n",
              "  <thead>\n",
              "    <tr style=\"text-align: right;\">\n",
              "      <th></th>\n",
              "      <th>los</th>\n",
              "      <th>Age</th>\n",
              "      <th>sex</th>\n",
              "      <th>weight</th>\n",
              "      <th>payer_code</th>\n",
              "      <th>medical_specialty</th>\n",
              "      <th>max_glu_serum</th>\n",
              "      <th>A1Cresult</th>\n",
              "      <th>number_diagnoses</th>\n",
              "      <th>num_lab_procedures</th>\n",
              "      <th>...</th>\n",
              "      <th>number_emergency</th>\n",
              "      <th>number_inpatient</th>\n",
              "      <th>number_outpatient</th>\n",
              "      <th>group_name_1</th>\n",
              "      <th>group_name_2</th>\n",
              "      <th>group_name_3</th>\n",
              "      <th>readmission</th>\n",
              "      <th>admission_type_id_cat</th>\n",
              "      <th>discharge_disposition_id_cat</th>\n",
              "      <th>admission_source_id_cat</th>\n",
              "    </tr>\n",
              "  </thead>\n",
              "  <tbody>\n",
              "    <tr>\n",
              "      <th>count</th>\n",
              "      <td>11919.000000</td>\n",
              "      <td>11919.000000</td>\n",
              "      <td>11919</td>\n",
              "      <td>11919</td>\n",
              "      <td>11919</td>\n",
              "      <td>11919</td>\n",
              "      <td>11919</td>\n",
              "      <td>11919</td>\n",
              "      <td>11919.000000</td>\n",
              "      <td>11919.000000</td>\n",
              "      <td>...</td>\n",
              "      <td>11919.000000</td>\n",
              "      <td>11919.000000</td>\n",
              "      <td>11919.000000</td>\n",
              "      <td>11919</td>\n",
              "      <td>11919</td>\n",
              "      <td>11919</td>\n",
              "      <td>11919</td>\n",
              "      <td>11919.0</td>\n",
              "      <td>11919.0</td>\n",
              "      <td>11919.0</td>\n",
              "    </tr>\n",
              "    <tr>\n",
              "      <th>unique</th>\n",
              "      <td>NaN</td>\n",
              "      <td>NaN</td>\n",
              "      <td>2</td>\n",
              "      <td>10</td>\n",
              "      <td>17</td>\n",
              "      <td>46</td>\n",
              "      <td>4</td>\n",
              "      <td>4</td>\n",
              "      <td>NaN</td>\n",
              "      <td>NaN</td>\n",
              "      <td>...</td>\n",
              "      <td>NaN</td>\n",
              "      <td>NaN</td>\n",
              "      <td>NaN</td>\n",
              "      <td>10</td>\n",
              "      <td>10</td>\n",
              "      <td>10</td>\n",
              "      <td>1</td>\n",
              "      <td>7.0</td>\n",
              "      <td>17.0</td>\n",
              "      <td>11.0</td>\n",
              "    </tr>\n",
              "    <tr>\n",
              "      <th>top</th>\n",
              "      <td>NaN</td>\n",
              "      <td>NaN</td>\n",
              "      <td>Female</td>\n",
              "      <td>?</td>\n",
              "      <td>?</td>\n",
              "      <td>?</td>\n",
              "      <td>None</td>\n",
              "      <td>None</td>\n",
              "      <td>NaN</td>\n",
              "      <td>NaN</td>\n",
              "      <td>...</td>\n",
              "      <td>NaN</td>\n",
              "      <td>NaN</td>\n",
              "      <td>NaN</td>\n",
              "      <td>Cardiac_&amp;_circulatory</td>\n",
              "      <td>Cardiac_&amp;_circulatory</td>\n",
              "      <td>Cardiac_&amp;_circulatory</td>\n",
              "      <td>yes</td>\n",
              "      <td>1.0</td>\n",
              "      <td>1.0</td>\n",
              "      <td>7.0</td>\n",
              "    </tr>\n",
              "    <tr>\n",
              "      <th>freq</th>\n",
              "      <td>NaN</td>\n",
              "      <td>NaN</td>\n",
              "      <td>6402</td>\n",
              "      <td>11393</td>\n",
              "      <td>5445</td>\n",
              "      <td>5828</td>\n",
              "      <td>11278</td>\n",
              "      <td>9794</td>\n",
              "      <td>NaN</td>\n",
              "      <td>NaN</td>\n",
              "      <td>...</td>\n",
              "      <td>NaN</td>\n",
              "      <td>NaN</td>\n",
              "      <td>NaN</td>\n",
              "      <td>3598</td>\n",
              "      <td>3767</td>\n",
              "      <td>3535</td>\n",
              "      <td>11919</td>\n",
              "      <td>8577.0</td>\n",
              "      <td>6704.0</td>\n",
              "      <td>8491.0</td>\n",
              "    </tr>\n",
              "    <tr>\n",
              "      <th>mean</th>\n",
              "      <td>15.340800</td>\n",
              "      <td>77.094219</td>\n",
              "      <td>NaN</td>\n",
              "      <td>NaN</td>\n",
              "      <td>NaN</td>\n",
              "      <td>NaN</td>\n",
              "      <td>NaN</td>\n",
              "      <td>NaN</td>\n",
              "      <td>9.468412</td>\n",
              "      <td>45.057723</td>\n",
              "      <td>...</td>\n",
              "      <td>1.169897</td>\n",
              "      <td>0.522863</td>\n",
              "      <td>3.164276</td>\n",
              "      <td>NaN</td>\n",
              "      <td>NaN</td>\n",
              "      <td>NaN</td>\n",
              "      <td>NaN</td>\n",
              "      <td>NaN</td>\n",
              "      <td>NaN</td>\n",
              "      <td>NaN</td>\n",
              "    </tr>\n",
              "    <tr>\n",
              "      <th>std</th>\n",
              "      <td>4.054148</td>\n",
              "      <td>15.840462</td>\n",
              "      <td>NaN</td>\n",
              "      <td>NaN</td>\n",
              "      <td>NaN</td>\n",
              "      <td>NaN</td>\n",
              "      <td>NaN</td>\n",
              "      <td>NaN</td>\n",
              "      <td>2.930959</td>\n",
              "      <td>19.870622</td>\n",
              "      <td>...</td>\n",
              "      <td>1.544033</td>\n",
              "      <td>0.949272</td>\n",
              "      <td>3.374588</td>\n",
              "      <td>NaN</td>\n",
              "      <td>NaN</td>\n",
              "      <td>NaN</td>\n",
              "      <td>NaN</td>\n",
              "      <td>NaN</td>\n",
              "      <td>NaN</td>\n",
              "      <td>NaN</td>\n",
              "    </tr>\n",
              "    <tr>\n",
              "      <th>min</th>\n",
              "      <td>9.000000</td>\n",
              "      <td>27.000000</td>\n",
              "      <td>NaN</td>\n",
              "      <td>NaN</td>\n",
              "      <td>NaN</td>\n",
              "      <td>NaN</td>\n",
              "      <td>NaN</td>\n",
              "      <td>NaN</td>\n",
              "      <td>1.000000</td>\n",
              "      <td>1.000000</td>\n",
              "      <td>...</td>\n",
              "      <td>0.000000</td>\n",
              "      <td>0.000000</td>\n",
              "      <td>0.000000</td>\n",
              "      <td>NaN</td>\n",
              "      <td>NaN</td>\n",
              "      <td>NaN</td>\n",
              "      <td>NaN</td>\n",
              "      <td>NaN</td>\n",
              "      <td>NaN</td>\n",
              "      <td>NaN</td>\n",
              "    </tr>\n",
              "    <tr>\n",
              "      <th>25%</th>\n",
              "      <td>12.000000</td>\n",
              "      <td>67.000000</td>\n",
              "      <td>NaN</td>\n",
              "      <td>NaN</td>\n",
              "      <td>NaN</td>\n",
              "      <td>NaN</td>\n",
              "      <td>NaN</td>\n",
              "      <td>NaN</td>\n",
              "      <td>8.000000</td>\n",
              "      <td>33.000000</td>\n",
              "      <td>...</td>\n",
              "      <td>0.000000</td>\n",
              "      <td>0.000000</td>\n",
              "      <td>0.000000</td>\n",
              "      <td>NaN</td>\n",
              "      <td>NaN</td>\n",
              "      <td>NaN</td>\n",
              "      <td>NaN</td>\n",
              "      <td>NaN</td>\n",
              "      <td>NaN</td>\n",
              "      <td>NaN</td>\n",
              "    </tr>\n",
              "    <tr>\n",
              "      <th>50%</th>\n",
              "      <td>15.000000</td>\n",
              "      <td>79.000000</td>\n",
              "      <td>NaN</td>\n",
              "      <td>NaN</td>\n",
              "      <td>NaN</td>\n",
              "      <td>NaN</td>\n",
              "      <td>NaN</td>\n",
              "      <td>NaN</td>\n",
              "      <td>9.000000</td>\n",
              "      <td>46.000000</td>\n",
              "      <td>...</td>\n",
              "      <td>0.000000</td>\n",
              "      <td>0.000000</td>\n",
              "      <td>2.000000</td>\n",
              "      <td>NaN</td>\n",
              "      <td>NaN</td>\n",
              "      <td>NaN</td>\n",
              "      <td>NaN</td>\n",
              "      <td>NaN</td>\n",
              "      <td>NaN</td>\n",
              "      <td>NaN</td>\n",
              "    </tr>\n",
              "    <tr>\n",
              "      <th>75%</th>\n",
              "      <td>18.000000</td>\n",
              "      <td>89.000000</td>\n",
              "      <td>NaN</td>\n",
              "      <td>NaN</td>\n",
              "      <td>NaN</td>\n",
              "      <td>NaN</td>\n",
              "      <td>NaN</td>\n",
              "      <td>NaN</td>\n",
              "      <td>12.000000</td>\n",
              "      <td>59.000000</td>\n",
              "      <td>...</td>\n",
              "      <td>2.000000</td>\n",
              "      <td>1.000000</td>\n",
              "      <td>6.000000</td>\n",
              "      <td>NaN</td>\n",
              "      <td>NaN</td>\n",
              "      <td>NaN</td>\n",
              "      <td>NaN</td>\n",
              "      <td>NaN</td>\n",
              "      <td>NaN</td>\n",
              "      <td>NaN</td>\n",
              "    </tr>\n",
              "    <tr>\n",
              "      <th>max</th>\n",
              "      <td>29.000000</td>\n",
              "      <td>114.000000</td>\n",
              "      <td>NaN</td>\n",
              "      <td>NaN</td>\n",
              "      <td>NaN</td>\n",
              "      <td>NaN</td>\n",
              "      <td>NaN</td>\n",
              "      <td>NaN</td>\n",
              "      <td>21.000000</td>\n",
              "      <td>135.000000</td>\n",
              "      <td>...</td>\n",
              "      <td>25.000000</td>\n",
              "      <td>13.000000</td>\n",
              "      <td>36.000000</td>\n",
              "      <td>NaN</td>\n",
              "      <td>NaN</td>\n",
              "      <td>NaN</td>\n",
              "      <td>NaN</td>\n",
              "      <td>NaN</td>\n",
              "      <td>NaN</td>\n",
              "      <td>NaN</td>\n",
              "    </tr>\n",
              "  </tbody>\n",
              "</table>\n",
              "<p>11 rows × 22 columns</p>\n",
              "</div>\n",
              "      <button class=\"colab-df-convert\" onclick=\"convertToInteractive('df-c3fb2a53-a4db-4192-9b53-aa1b412d8bfa')\"\n",
              "              title=\"Convert this dataframe to an interactive table.\"\n",
              "              style=\"display:none;\">\n",
              "        \n",
              "  <svg xmlns=\"http://www.w3.org/2000/svg\" height=\"24px\"viewBox=\"0 0 24 24\"\n",
              "       width=\"24px\">\n",
              "    <path d=\"M0 0h24v24H0V0z\" fill=\"none\"/>\n",
              "    <path d=\"M18.56 5.44l.94 2.06.94-2.06 2.06-.94-2.06-.94-.94-2.06-.94 2.06-2.06.94zm-11 1L8.5 8.5l.94-2.06 2.06-.94-2.06-.94L8.5 2.5l-.94 2.06-2.06.94zm10 10l.94 2.06.94-2.06 2.06-.94-2.06-.94-.94-2.06-.94 2.06-2.06.94z\"/><path d=\"M17.41 7.96l-1.37-1.37c-.4-.4-.92-.59-1.43-.59-.52 0-1.04.2-1.43.59L10.3 9.45l-7.72 7.72c-.78.78-.78 2.05 0 2.83L4 21.41c.39.39.9.59 1.41.59.51 0 1.02-.2 1.41-.59l7.78-7.78 2.81-2.81c.8-.78.8-2.07 0-2.86zM5.41 20L4 18.59l7.72-7.72 1.47 1.35L5.41 20z\"/>\n",
              "  </svg>\n",
              "      </button>\n",
              "      \n",
              "  <style>\n",
              "    .colab-df-container {\n",
              "      display:flex;\n",
              "      flex-wrap:wrap;\n",
              "      gap: 12px;\n",
              "    }\n",
              "\n",
              "    .colab-df-convert {\n",
              "      background-color: #E8F0FE;\n",
              "      border: none;\n",
              "      border-radius: 50%;\n",
              "      cursor: pointer;\n",
              "      display: none;\n",
              "      fill: #1967D2;\n",
              "      height: 32px;\n",
              "      padding: 0 0 0 0;\n",
              "      width: 32px;\n",
              "    }\n",
              "\n",
              "    .colab-df-convert:hover {\n",
              "      background-color: #E2EBFA;\n",
              "      box-shadow: 0px 1px 2px rgba(60, 64, 67, 0.3), 0px 1px 3px 1px rgba(60, 64, 67, 0.15);\n",
              "      fill: #174EA6;\n",
              "    }\n",
              "\n",
              "    [theme=dark] .colab-df-convert {\n",
              "      background-color: #3B4455;\n",
              "      fill: #D2E3FC;\n",
              "    }\n",
              "\n",
              "    [theme=dark] .colab-df-convert:hover {\n",
              "      background-color: #434B5C;\n",
              "      box-shadow: 0px 1px 3px 1px rgba(0, 0, 0, 0.15);\n",
              "      filter: drop-shadow(0px 1px 2px rgba(0, 0, 0, 0.3));\n",
              "      fill: #FFFFFF;\n",
              "    }\n",
              "  </style>\n",
              "\n",
              "      <script>\n",
              "        const buttonEl =\n",
              "          document.querySelector('#df-c3fb2a53-a4db-4192-9b53-aa1b412d8bfa button.colab-df-convert');\n",
              "        buttonEl.style.display =\n",
              "          google.colab.kernel.accessAllowed ? 'block' : 'none';\n",
              "\n",
              "        async function convertToInteractive(key) {\n",
              "          const element = document.querySelector('#df-c3fb2a53-a4db-4192-9b53-aa1b412d8bfa');\n",
              "          const dataTable =\n",
              "            await google.colab.kernel.invokeFunction('convertToInteractive',\n",
              "                                                     [key], {});\n",
              "          if (!dataTable) return;\n",
              "\n",
              "          const docLinkHtml = 'Like what you see? Visit the ' +\n",
              "            '<a target=\"_blank\" href=https://colab.research.google.com/notebooks/data_table.ipynb>data table notebook</a>'\n",
              "            + ' to learn more about interactive tables.';\n",
              "          element.innerHTML = '';\n",
              "          dataTable['output_type'] = 'display_data';\n",
              "          await google.colab.output.renderOutput(dataTable, element);\n",
              "          const docLink = document.createElement('div');\n",
              "          docLink.innerHTML = docLinkHtml;\n",
              "          element.appendChild(docLink);\n",
              "        }\n",
              "      </script>\n",
              "    </div>\n",
              "  </div>\n",
              "  "
            ]
          },
          "metadata": {},
          "execution_count": 20
        }
      ],
      "source": [
        "# Summary of the features regarding clients with readmission = 'yes'\n",
        "hospital[hospital['readmission'] == 'yes'].describe(include='all')"
      ]
    },
    {
      "cell_type": "code",
      "execution_count": 21,
      "metadata": {
        "id": "kQLIywO2X-u-",
        "outputId": "4ab65fec-a52b-44ae-b809-fb18d0c54237",
        "colab": {
          "base_uri": "https://localhost:8080/",
          "height": 488
        }
      },
      "outputs": [
        {
          "output_type": "execute_result",
          "data": {
            "text/plain": [
              "                 los           Age     sex weight payer_code  \\\n",
              "count   57351.000000  57351.000000   57351  57351      57351   \n",
              "unique           NaN           NaN       3     10         18   \n",
              "top              NaN           NaN  Female      ?          ?   \n",
              "freq             NaN           NaN   30439  55111      24467   \n",
              "mean        4.246308     65.242001     NaN    NaN        NaN   \n",
              "std         2.927615     15.449194     NaN    NaN        NaN   \n",
              "min         1.000000     20.000000     NaN    NaN        NaN   \n",
              "25%         2.000000     55.000000     NaN    NaN        NaN   \n",
              "50%         3.000000     67.000000     NaN    NaN        NaN   \n",
              "75%         6.000000     77.000000     NaN    NaN        NaN   \n",
              "max        14.000000     99.000000     NaN    NaN        NaN   \n",
              "\n",
              "       medical_specialty max_glu_serum A1Cresult  number_diagnoses  \\\n",
              "count              57351         57351     57351      57351.000000   \n",
              "unique                63             4         4               NaN   \n",
              "top                    ?          None      None               NaN   \n",
              "freq               27594         54663     46991               NaN   \n",
              "mean                 NaN           NaN       NaN          7.236230   \n",
              "std                  NaN           NaN       NaN          1.973829   \n",
              "min                  NaN           NaN       NaN          1.000000   \n",
              "25%                  NaN           NaN       NaN          6.000000   \n",
              "50%                  NaN           NaN       NaN          8.000000   \n",
              "75%                  NaN           NaN       NaN          9.000000   \n",
              "max                  NaN           NaN       NaN         16.000000   \n",
              "\n",
              "        num_lab_procedures  ...  number_emergency  number_inpatient  \\\n",
              "count         57351.000000  ...      57351.000000      57351.000000   \n",
              "unique                 NaN  ...               NaN               NaN   \n",
              "top                    NaN  ...               NaN               NaN   \n",
              "freq                   NaN  ...               NaN               NaN   \n",
              "mean             42.706788  ...          0.098621          0.158271   \n",
              "std              19.913256  ...          0.500535          0.547904   \n",
              "min               1.000000  ...          0.000000          0.000000   \n",
              "25%              31.000000  ...          0.000000          0.000000   \n",
              "50%              44.000000  ...          0.000000          0.000000   \n",
              "75%              57.000000  ...          0.000000          0.000000   \n",
              "max             121.000000  ...         42.000000         11.000000   \n",
              "\n",
              "        number_outpatient           group_name_1           group_name_2  \\\n",
              "count        57351.000000                  57351                  57351   \n",
              "unique                NaN                     10                     10   \n",
              "top                   NaN  Cardiac_&_circulatory  Cardiac_&_circulatory   \n",
              "freq                  NaN                  16809                  17853   \n",
              "mean             0.278269                    NaN                    NaN   \n",
              "std              1.067145                    NaN                    NaN   \n",
              "min              0.000000                    NaN                    NaN   \n",
              "25%              0.000000                    NaN                    NaN   \n",
              "50%              0.000000                    NaN                    NaN   \n",
              "75%              0.000000                    NaN                    NaN   \n",
              "max             42.000000                    NaN                    NaN   \n",
              "\n",
              "                 group_name_3 readmission admission_type_id_cat  \\\n",
              "count                   57351       57351               57351.0   \n",
              "unique                     10           1                   7.0   \n",
              "top     Cardiac_&_circulatory          no                   3.0   \n",
              "freq                    16883       57351               23021.0   \n",
              "mean                      NaN         NaN                   NaN   \n",
              "std                       NaN         NaN                   NaN   \n",
              "min                       NaN         NaN                   NaN   \n",
              "25%                       NaN         NaN                   NaN   \n",
              "50%                       NaN         NaN                   NaN   \n",
              "75%                       NaN         NaN                   NaN   \n",
              "max                       NaN         NaN                   NaN   \n",
              "\n",
              "       discharge_disposition_id_cat  admission_source_id_cat  \n",
              "count                       57351.0                  57351.0  \n",
              "unique                         20.0                     14.0  \n",
              "top                             1.0                      7.0  \n",
              "freq                        36985.0                  36019.0  \n",
              "mean                            NaN                      NaN  \n",
              "std                             NaN                      NaN  \n",
              "min                             NaN                      NaN  \n",
              "25%                             NaN                      NaN  \n",
              "50%                             NaN                      NaN  \n",
              "75%                             NaN                      NaN  \n",
              "max                             NaN                      NaN  \n",
              "\n",
              "[11 rows x 22 columns]"
            ],
            "text/html": [
              "\n",
              "  <div id=\"df-5b4b8c66-4978-423c-a94a-d93a4e7325c7\">\n",
              "    <div class=\"colab-df-container\">\n",
              "      <div>\n",
              "<style scoped>\n",
              "    .dataframe tbody tr th:only-of-type {\n",
              "        vertical-align: middle;\n",
              "    }\n",
              "\n",
              "    .dataframe tbody tr th {\n",
              "        vertical-align: top;\n",
              "    }\n",
              "\n",
              "    .dataframe thead th {\n",
              "        text-align: right;\n",
              "    }\n",
              "</style>\n",
              "<table border=\"1\" class=\"dataframe\">\n",
              "  <thead>\n",
              "    <tr style=\"text-align: right;\">\n",
              "      <th></th>\n",
              "      <th>los</th>\n",
              "      <th>Age</th>\n",
              "      <th>sex</th>\n",
              "      <th>weight</th>\n",
              "      <th>payer_code</th>\n",
              "      <th>medical_specialty</th>\n",
              "      <th>max_glu_serum</th>\n",
              "      <th>A1Cresult</th>\n",
              "      <th>number_diagnoses</th>\n",
              "      <th>num_lab_procedures</th>\n",
              "      <th>...</th>\n",
              "      <th>number_emergency</th>\n",
              "      <th>number_inpatient</th>\n",
              "      <th>number_outpatient</th>\n",
              "      <th>group_name_1</th>\n",
              "      <th>group_name_2</th>\n",
              "      <th>group_name_3</th>\n",
              "      <th>readmission</th>\n",
              "      <th>admission_type_id_cat</th>\n",
              "      <th>discharge_disposition_id_cat</th>\n",
              "      <th>admission_source_id_cat</th>\n",
              "    </tr>\n",
              "  </thead>\n",
              "  <tbody>\n",
              "    <tr>\n",
              "      <th>count</th>\n",
              "      <td>57351.000000</td>\n",
              "      <td>57351.000000</td>\n",
              "      <td>57351</td>\n",
              "      <td>57351</td>\n",
              "      <td>57351</td>\n",
              "      <td>57351</td>\n",
              "      <td>57351</td>\n",
              "      <td>57351</td>\n",
              "      <td>57351.000000</td>\n",
              "      <td>57351.000000</td>\n",
              "      <td>...</td>\n",
              "      <td>57351.000000</td>\n",
              "      <td>57351.000000</td>\n",
              "      <td>57351.000000</td>\n",
              "      <td>57351</td>\n",
              "      <td>57351</td>\n",
              "      <td>57351</td>\n",
              "      <td>57351</td>\n",
              "      <td>57351.0</td>\n",
              "      <td>57351.0</td>\n",
              "      <td>57351.0</td>\n",
              "    </tr>\n",
              "    <tr>\n",
              "      <th>unique</th>\n",
              "      <td>NaN</td>\n",
              "      <td>NaN</td>\n",
              "      <td>3</td>\n",
              "      <td>10</td>\n",
              "      <td>18</td>\n",
              "      <td>63</td>\n",
              "      <td>4</td>\n",
              "      <td>4</td>\n",
              "      <td>NaN</td>\n",
              "      <td>NaN</td>\n",
              "      <td>...</td>\n",
              "      <td>NaN</td>\n",
              "      <td>NaN</td>\n",
              "      <td>NaN</td>\n",
              "      <td>10</td>\n",
              "      <td>10</td>\n",
              "      <td>10</td>\n",
              "      <td>1</td>\n",
              "      <td>7.0</td>\n",
              "      <td>20.0</td>\n",
              "      <td>14.0</td>\n",
              "    </tr>\n",
              "    <tr>\n",
              "      <th>top</th>\n",
              "      <td>NaN</td>\n",
              "      <td>NaN</td>\n",
              "      <td>Female</td>\n",
              "      <td>?</td>\n",
              "      <td>?</td>\n",
              "      <td>?</td>\n",
              "      <td>None</td>\n",
              "      <td>None</td>\n",
              "      <td>NaN</td>\n",
              "      <td>NaN</td>\n",
              "      <td>...</td>\n",
              "      <td>NaN</td>\n",
              "      <td>NaN</td>\n",
              "      <td>NaN</td>\n",
              "      <td>Cardiac_&amp;_circulatory</td>\n",
              "      <td>Cardiac_&amp;_circulatory</td>\n",
              "      <td>Cardiac_&amp;_circulatory</td>\n",
              "      <td>no</td>\n",
              "      <td>3.0</td>\n",
              "      <td>1.0</td>\n",
              "      <td>7.0</td>\n",
              "    </tr>\n",
              "    <tr>\n",
              "      <th>freq</th>\n",
              "      <td>NaN</td>\n",
              "      <td>NaN</td>\n",
              "      <td>30439</td>\n",
              "      <td>55111</td>\n",
              "      <td>24467</td>\n",
              "      <td>27594</td>\n",
              "      <td>54663</td>\n",
              "      <td>46991</td>\n",
              "      <td>NaN</td>\n",
              "      <td>NaN</td>\n",
              "      <td>...</td>\n",
              "      <td>NaN</td>\n",
              "      <td>NaN</td>\n",
              "      <td>NaN</td>\n",
              "      <td>16809</td>\n",
              "      <td>17853</td>\n",
              "      <td>16883</td>\n",
              "      <td>57351</td>\n",
              "      <td>23021.0</td>\n",
              "      <td>36985.0</td>\n",
              "      <td>36019.0</td>\n",
              "    </tr>\n",
              "    <tr>\n",
              "      <th>mean</th>\n",
              "      <td>4.246308</td>\n",
              "      <td>65.242001</td>\n",
              "      <td>NaN</td>\n",
              "      <td>NaN</td>\n",
              "      <td>NaN</td>\n",
              "      <td>NaN</td>\n",
              "      <td>NaN</td>\n",
              "      <td>NaN</td>\n",
              "      <td>7.236230</td>\n",
              "      <td>42.706788</td>\n",
              "      <td>...</td>\n",
              "      <td>0.098621</td>\n",
              "      <td>0.158271</td>\n",
              "      <td>0.278269</td>\n",
              "      <td>NaN</td>\n",
              "      <td>NaN</td>\n",
              "      <td>NaN</td>\n",
              "      <td>NaN</td>\n",
              "      <td>NaN</td>\n",
              "      <td>NaN</td>\n",
              "      <td>NaN</td>\n",
              "    </tr>\n",
              "    <tr>\n",
              "      <th>std</th>\n",
              "      <td>2.927615</td>\n",
              "      <td>15.449194</td>\n",
              "      <td>NaN</td>\n",
              "      <td>NaN</td>\n",
              "      <td>NaN</td>\n",
              "      <td>NaN</td>\n",
              "      <td>NaN</td>\n",
              "      <td>NaN</td>\n",
              "      <td>1.973829</td>\n",
              "      <td>19.913256</td>\n",
              "      <td>...</td>\n",
              "      <td>0.500535</td>\n",
              "      <td>0.547904</td>\n",
              "      <td>1.067145</td>\n",
              "      <td>NaN</td>\n",
              "      <td>NaN</td>\n",
              "      <td>NaN</td>\n",
              "      <td>NaN</td>\n",
              "      <td>NaN</td>\n",
              "      <td>NaN</td>\n",
              "      <td>NaN</td>\n",
              "    </tr>\n",
              "    <tr>\n",
              "      <th>min</th>\n",
              "      <td>1.000000</td>\n",
              "      <td>20.000000</td>\n",
              "      <td>NaN</td>\n",
              "      <td>NaN</td>\n",
              "      <td>NaN</td>\n",
              "      <td>NaN</td>\n",
              "      <td>NaN</td>\n",
              "      <td>NaN</td>\n",
              "      <td>1.000000</td>\n",
              "      <td>1.000000</td>\n",
              "      <td>...</td>\n",
              "      <td>0.000000</td>\n",
              "      <td>0.000000</td>\n",
              "      <td>0.000000</td>\n",
              "      <td>NaN</td>\n",
              "      <td>NaN</td>\n",
              "      <td>NaN</td>\n",
              "      <td>NaN</td>\n",
              "      <td>NaN</td>\n",
              "      <td>NaN</td>\n",
              "      <td>NaN</td>\n",
              "    </tr>\n",
              "    <tr>\n",
              "      <th>25%</th>\n",
              "      <td>2.000000</td>\n",
              "      <td>55.000000</td>\n",
              "      <td>NaN</td>\n",
              "      <td>NaN</td>\n",
              "      <td>NaN</td>\n",
              "      <td>NaN</td>\n",
              "      <td>NaN</td>\n",
              "      <td>NaN</td>\n",
              "      <td>6.000000</td>\n",
              "      <td>31.000000</td>\n",
              "      <td>...</td>\n",
              "      <td>0.000000</td>\n",
              "      <td>0.000000</td>\n",
              "      <td>0.000000</td>\n",
              "      <td>NaN</td>\n",
              "      <td>NaN</td>\n",
              "      <td>NaN</td>\n",
              "      <td>NaN</td>\n",
              "      <td>NaN</td>\n",
              "      <td>NaN</td>\n",
              "      <td>NaN</td>\n",
              "    </tr>\n",
              "    <tr>\n",
              "      <th>50%</th>\n",
              "      <td>3.000000</td>\n",
              "      <td>67.000000</td>\n",
              "      <td>NaN</td>\n",
              "      <td>NaN</td>\n",
              "      <td>NaN</td>\n",
              "      <td>NaN</td>\n",
              "      <td>NaN</td>\n",
              "      <td>NaN</td>\n",
              "      <td>8.000000</td>\n",
              "      <td>44.000000</td>\n",
              "      <td>...</td>\n",
              "      <td>0.000000</td>\n",
              "      <td>0.000000</td>\n",
              "      <td>0.000000</td>\n",
              "      <td>NaN</td>\n",
              "      <td>NaN</td>\n",
              "      <td>NaN</td>\n",
              "      <td>NaN</td>\n",
              "      <td>NaN</td>\n",
              "      <td>NaN</td>\n",
              "      <td>NaN</td>\n",
              "    </tr>\n",
              "    <tr>\n",
              "      <th>75%</th>\n",
              "      <td>6.000000</td>\n",
              "      <td>77.000000</td>\n",
              "      <td>NaN</td>\n",
              "      <td>NaN</td>\n",
              "      <td>NaN</td>\n",
              "      <td>NaN</td>\n",
              "      <td>NaN</td>\n",
              "      <td>NaN</td>\n",
              "      <td>9.000000</td>\n",
              "      <td>57.000000</td>\n",
              "      <td>...</td>\n",
              "      <td>0.000000</td>\n",
              "      <td>0.000000</td>\n",
              "      <td>0.000000</td>\n",
              "      <td>NaN</td>\n",
              "      <td>NaN</td>\n",
              "      <td>NaN</td>\n",
              "      <td>NaN</td>\n",
              "      <td>NaN</td>\n",
              "      <td>NaN</td>\n",
              "      <td>NaN</td>\n",
              "    </tr>\n",
              "    <tr>\n",
              "      <th>max</th>\n",
              "      <td>14.000000</td>\n",
              "      <td>99.000000</td>\n",
              "      <td>NaN</td>\n",
              "      <td>NaN</td>\n",
              "      <td>NaN</td>\n",
              "      <td>NaN</td>\n",
              "      <td>NaN</td>\n",
              "      <td>NaN</td>\n",
              "      <td>16.000000</td>\n",
              "      <td>121.000000</td>\n",
              "      <td>...</td>\n",
              "      <td>42.000000</td>\n",
              "      <td>11.000000</td>\n",
              "      <td>42.000000</td>\n",
              "      <td>NaN</td>\n",
              "      <td>NaN</td>\n",
              "      <td>NaN</td>\n",
              "      <td>NaN</td>\n",
              "      <td>NaN</td>\n",
              "      <td>NaN</td>\n",
              "      <td>NaN</td>\n",
              "    </tr>\n",
              "  </tbody>\n",
              "</table>\n",
              "<p>11 rows × 22 columns</p>\n",
              "</div>\n",
              "      <button class=\"colab-df-convert\" onclick=\"convertToInteractive('df-5b4b8c66-4978-423c-a94a-d93a4e7325c7')\"\n",
              "              title=\"Convert this dataframe to an interactive table.\"\n",
              "              style=\"display:none;\">\n",
              "        \n",
              "  <svg xmlns=\"http://www.w3.org/2000/svg\" height=\"24px\"viewBox=\"0 0 24 24\"\n",
              "       width=\"24px\">\n",
              "    <path d=\"M0 0h24v24H0V0z\" fill=\"none\"/>\n",
              "    <path d=\"M18.56 5.44l.94 2.06.94-2.06 2.06-.94-2.06-.94-.94-2.06-.94 2.06-2.06.94zm-11 1L8.5 8.5l.94-2.06 2.06-.94-2.06-.94L8.5 2.5l-.94 2.06-2.06.94zm10 10l.94 2.06.94-2.06 2.06-.94-2.06-.94-.94-2.06-.94 2.06-2.06.94z\"/><path d=\"M17.41 7.96l-1.37-1.37c-.4-.4-.92-.59-1.43-.59-.52 0-1.04.2-1.43.59L10.3 9.45l-7.72 7.72c-.78.78-.78 2.05 0 2.83L4 21.41c.39.39.9.59 1.41.59.51 0 1.02-.2 1.41-.59l7.78-7.78 2.81-2.81c.8-.78.8-2.07 0-2.86zM5.41 20L4 18.59l7.72-7.72 1.47 1.35L5.41 20z\"/>\n",
              "  </svg>\n",
              "      </button>\n",
              "      \n",
              "  <style>\n",
              "    .colab-df-container {\n",
              "      display:flex;\n",
              "      flex-wrap:wrap;\n",
              "      gap: 12px;\n",
              "    }\n",
              "\n",
              "    .colab-df-convert {\n",
              "      background-color: #E8F0FE;\n",
              "      border: none;\n",
              "      border-radius: 50%;\n",
              "      cursor: pointer;\n",
              "      display: none;\n",
              "      fill: #1967D2;\n",
              "      height: 32px;\n",
              "      padding: 0 0 0 0;\n",
              "      width: 32px;\n",
              "    }\n",
              "\n",
              "    .colab-df-convert:hover {\n",
              "      background-color: #E2EBFA;\n",
              "      box-shadow: 0px 1px 2px rgba(60, 64, 67, 0.3), 0px 1px 3px 1px rgba(60, 64, 67, 0.15);\n",
              "      fill: #174EA6;\n",
              "    }\n",
              "\n",
              "    [theme=dark] .colab-df-convert {\n",
              "      background-color: #3B4455;\n",
              "      fill: #D2E3FC;\n",
              "    }\n",
              "\n",
              "    [theme=dark] .colab-df-convert:hover {\n",
              "      background-color: #434B5C;\n",
              "      box-shadow: 0px 1px 3px 1px rgba(0, 0, 0, 0.15);\n",
              "      filter: drop-shadow(0px 1px 2px rgba(0, 0, 0, 0.3));\n",
              "      fill: #FFFFFF;\n",
              "    }\n",
              "  </style>\n",
              "\n",
              "      <script>\n",
              "        const buttonEl =\n",
              "          document.querySelector('#df-5b4b8c66-4978-423c-a94a-d93a4e7325c7 button.colab-df-convert');\n",
              "        buttonEl.style.display =\n",
              "          google.colab.kernel.accessAllowed ? 'block' : 'none';\n",
              "\n",
              "        async function convertToInteractive(key) {\n",
              "          const element = document.querySelector('#df-5b4b8c66-4978-423c-a94a-d93a4e7325c7');\n",
              "          const dataTable =\n",
              "            await google.colab.kernel.invokeFunction('convertToInteractive',\n",
              "                                                     [key], {});\n",
              "          if (!dataTable) return;\n",
              "\n",
              "          const docLinkHtml = 'Like what you see? Visit the ' +\n",
              "            '<a target=\"_blank\" href=https://colab.research.google.com/notebooks/data_table.ipynb>data table notebook</a>'\n",
              "            + ' to learn more about interactive tables.';\n",
              "          element.innerHTML = '';\n",
              "          dataTable['output_type'] = 'display_data';\n",
              "          await google.colab.output.renderOutput(dataTable, element);\n",
              "          const docLink = document.createElement('div');\n",
              "          docLink.innerHTML = docLinkHtml;\n",
              "          element.appendChild(docLink);\n",
              "        }\n",
              "      </script>\n",
              "    </div>\n",
              "  </div>\n",
              "  "
            ]
          },
          "metadata": {},
          "execution_count": 21
        }
      ],
      "source": [
        "# Summary of the features regarding clients with readmission = 'no'\n",
        "hospital[hospital['readmission'] == 'no'].describe(include='all')"
      ]
    },
    {
      "cell_type": "markdown",
      "metadata": {
        "id": "6W7t00DTX-u_"
      },
      "source": [
        "<div class=\"alert alert-block alert-success\">**Start Activity**</div>"
      ]
    },
    {
      "cell_type": "markdown",
      "metadata": {
        "id": "qPLtIyvkX-u_"
      },
      "source": [
        "### <font color='brown'> Question 1: Which are the main differences between readmitted patients versus those who are not readmitted?. Type your answer in the space provided below.</font>\n"
      ]
    },
    {
      "cell_type": "markdown",
      "metadata": {
        "id": "gn7wAEBbX-u_"
      },
      "source": [
        "<b> Write the answer here:</b>\n",
        "#####################################################################################################################\n",
        "\n",
        "(Double-click here)\n",
        "\n",
        "#####################################################################################################################"
      ]
    },
    {
      "cell_type": "markdown",
      "metadata": {
        "id": "iQgKWydsX-u_"
      },
      "source": [
        "<div class=\"alert alert-block alert-warning\">**End Activity**</div>"
      ]
    },
    {
      "cell_type": "markdown",
      "metadata": {
        "id": "EYnnSFn8X-u_"
      },
      "source": [
        "### 6.2.3 Statistics of output variable 'Readmission': value counts and percentages\n",
        "\n",
        "As mentioned above, in this first chapter, we will build a predictive algorithm to predict if a patient with diabetes will be readmitted to the hospital after discharge. That is, **readmission** will be the outcome variable. \n",
        "\n",
        "**Let's analyse the descriptive statistics (value counts and percentages) of the output variable 'readmission'.**"
      ]
    },
    {
      "cell_type": "markdown",
      "metadata": {
        "id": "3dv_UaysX-vA"
      },
      "source": [
        "<div class=\"alert alert-block alert-success\">**Start Activity**</div>"
      ]
    },
    {
      "cell_type": "markdown",
      "metadata": {
        "id": "2wXWon1mX-vA"
      },
      "source": [
        "### <font color='brown'> Question 2: Can you write the code that calculates value counts and percentages for the variable 'readmission'? Type your answer in the space provided below.</font>\n",
        "\n",
        "<p><font color='green'> Tip:  Use this structure for value counts: \"DataFrame['column selection'].describe()\"</font></p>\n",
        "\n",
        "<p><font color='green'> Use this structure for percentages: \"DataFrame['column selection'].value_counts(normalize=True)*100\"</font></p>\n"
      ]
    },
    {
      "cell_type": "code",
      "execution_count": null,
      "metadata": {
        "id": "n-iIqOQVX-vA"
      },
      "outputs": [],
      "source": [
        "# Write Python code here for 'value counts':\n"
      ]
    },
    {
      "cell_type": "code",
      "execution_count": null,
      "metadata": {
        "id": "_3qQAwh8X-vB"
      },
      "outputs": [],
      "source": [
        "# Write Python code here for 'percentages':\n"
      ]
    },
    {
      "cell_type": "markdown",
      "metadata": {
        "id": "Ec27GJkXX-vB"
      },
      "source": [
        "<div class=\"alert alert-block alert-warning\">**End Activity**</div>"
      ]
    },
    {
      "cell_type": "markdown",
      "metadata": {
        "id": "ZXJABczpX-vC"
      },
      "source": [
        "As we can see, our dataset is an <b> imbalanced dataset </b>. [Read this article about imbalance datasets](\n",
        "https://machinelearningmastery.com/tactics-to-combat-imbalanced-classes-in-your-machine-learning-dataset/)."
      ]
    },
    {
      "cell_type": "markdown",
      "metadata": {
        "id": "DYyfxwa2X-vC"
      },
      "source": [
        "## 6.3. Correlation: \n",
        "\n",
        "We will use a correlation matrix to analyse this property for our data set. \n",
        "\n",
        "This command allows us to visualise the **linear** correlation of the <font color='red'>**continuous variables**</font> of our dataset only. This is important since the correlation is the measure of a linear relationship between two variables, and for categorical variables with multiple levels, the correlation is not appropiate.\n",
        "\n",
        "The function `DateFrame.corr()` calculates the standard correlation coffient, or pearson's([see pandas documentation](https://pandas.pydata.org/pandas-docs/stable/reference/api/pandas.DataFrame.corr.html)).\n",
        "\n",
        "To visualize the values of the correlation, For this, we will use **seaborn** library, by using the command: `sns.heatmap(DataFrame)`. \n",
        "[See more information](https://seaborn.pydata.org/)"
      ]
    },
    {
      "cell_type": "code",
      "execution_count": null,
      "metadata": {
        "id": "lAzBRgaZX-vC"
      },
      "outputs": [],
      "source": [
        "import seaborn as sns\n",
        "import pylab as pl\n",
        "import matplotlib.pyplot as plt"
      ]
    },
    {
      "cell_type": "code",
      "execution_count": null,
      "metadata": {
        "id": "njMkt7pFX-vC"
      },
      "outputs": [],
      "source": [
        "# We plot our variables\n",
        "f, ax = plt.subplots(figsize=(12, 9)) # Setting size of the results panel\n",
        "sns.heatmap(hospital.corr() ,linewidths=.1, annot=True, annot_kws={\"size\": 15}, cmap='viridis', ax=ax)\n",
        "del f\n",
        "del ax"
      ]
    },
    {
      "cell_type": "markdown",
      "metadata": {
        "id": "R4Brsi8hX-vD"
      },
      "source": [
        "Most of the cells are dark, indicating correlation close to 0. If two or more features are strongly correlated to each other, we could consider them as extra parameters. \n",
        "\n",
        "Although we do not see strong correlations between the continuous features of our dataset, there is a noticeable light blue square in a few places of the matrix. This indicates that there is some correlation between length of stay, number of diagnoses, number of procedures and number of medications. This makes sense, as we would expect the length of stay to increase with an increasing number of procedures and medications. The diagonal line is simply each features correlation with itself, which is of course 1 (indicating perfect correlation)."
      ]
    },
    {
      "cell_type": "markdown",
      "metadata": {
        "id": "QvQamy_kX-vD"
      },
      "source": [
        "Note: From the book \"Hands-on Machine Learning with Scikit-Learn & Tensorflow\" by Aurelien Geron:\n",
        "\n",
        "![alt text](https://drive.google.com/uc?export=view&id=13WdwfNS20Jkt6iSEtkmx9kVJ8anzEfQA)"
      ]
    },
    {
      "cell_type": "markdown",
      "metadata": {
        "id": "mQYm_BdzX-vE"
      },
      "source": [
        "## 6.4 Visualisation of our outcome variable: 'Readmission' \n",
        "\n",
        "As we could see in the descriptive statistics section, our dataset is an imbalanced dataset. \n",
        "\n",
        "**Let's visualise the outcome variable to have a better idea of the differences between both classes, 'Yes' and 'No'.**\n",
        "\n",
        "For this, we will use **matplotlib library**, which allows us to create a single plot or a set of subplots. [More information on visualisation](https://pandas.pydata.org/pandas-docs/stable/user_guide/visualization.html) and [matplot library](https://matplotlib.org/api/_as_gen/matplotlib.pyplot.subplots.html)."
      ]
    },
    {
      "cell_type": "code",
      "execution_count": null,
      "metadata": {
        "id": "JxhEnimAX-vE"
      },
      "outputs": [],
      "source": [
        "# Plot proportions for each class of 'readmission', by using the command: DataFrame.column.value_counts(normalize=True).plot()\n",
        "color = ['steelblue', 'coral'] \n",
        "ax = (hospital.readmission.value_counts(normalize=True)*100).plot(kind=\"bar\",color=color, rot=0)\n",
        "ax.set_yticks(np.arange(0, 120,20))\n",
        "ax.set_ylabel('Proportion (%)')\n",
        "ax.set_xlabel('Readmission')\n",
        "ax.set_title('Readmission (No/Yes)')\n",
        "\n",
        "# Adding labels to each bar\n",
        "totals = []\n",
        "# find the values and append to list\n",
        "for i in ax.patches:\n",
        "    totals.append(i.get_height())\n",
        "del i\n",
        "\n",
        "total = sum(totals)\n",
        "# set individual bar lables using above list\n",
        "for i in ax.patches:\n",
        "    # setting position and format of the bar labels \n",
        "    ax.text(i.get_x()+0.12, i.get_height()+2, \\\n",
        "            str(round((i.get_height()/total)*100, 2))+'%', fontsize=13)\n",
        "del i\n",
        "\n",
        "del ax\n",
        "del color\n",
        "del total\n",
        "del totals"
      ]
    },
    {
      "cell_type": "markdown",
      "metadata": {
        "id": "t-RMCFaqX-vE"
      },
      "source": [
        "## 6.5 Visualising the features regarding \"readmission\" \n",
        "\n",
        "\n",
        "### 6.5.1. Continuous Numeric Variables by Readmission \n",
        "\n",
        "Lets look at how the continuous numeric variables are distributed regarding **readmission**.    "
      ]
    },
    {
      "cell_type": "code",
      "execution_count": null,
      "metadata": {
        "id": "i5B4KoOTX-vF"
      },
      "outputs": [],
      "source": [
        "# Selecting continuous variables to plot them all together. Python command: DataFrame[[column selection]]\n",
        "hospital_plot = hospital[['los', 'num_lab_procedures','num_procedures','num_medications',\n",
        "                        'number_outpatient', 'number_emergency', 'number_inpatient', 'number_diagnoses','Age','readmission']]\n",
        "\n",
        "# Transforming our data from wide to long format for our plots. Python command: DataFrame.melt([group variable],var_name,value_name)\n",
        "hospital_plot = hospital_plot.melt(['readmission'], var_name='cols',  value_name='vals')\n",
        "hospital_plot.sort_values('readmission', inplace=True)"
      ]
    },
    {
      "cell_type": "markdown",
      "metadata": {
        "id": "cq1Du_2YX-vF"
      },
      "source": [
        "#### Histograms of continuous variables regarding 'readmission'"
      ]
    },
    {
      "cell_type": "code",
      "execution_count": null,
      "metadata": {
        "id": "eRLy6eacX-vG"
      },
      "outputs": [],
      "source": [
        "sns.set(style=\"ticks\", font_scale=1.3)\n",
        "pal = dict(yes=\"coral\", no=\"steelblue\")   # Palette of colours\n",
        "\n",
        "# Plotting all the continuous/numeric variables of our dataset, regarding 'readmission'\n",
        "p = sns.FacetGrid(hospital_plot, col='cols', hue=\"readmission\", palette=pal, legend_out=False, sharex=False, sharey=False, col_wrap=4)\n",
        "p = (p.map(plt.hist, \"vals\", alpha=0.8).add_legend())\n",
        "p.fig.set_size_inches(17,11)\n",
        "\n",
        "# Adding the legend to each plot\n",
        "for ax in p.axes.ravel():\n",
        "    ax.legend(title=\"Readmission\")   \n",
        "\n",
        "del p\n",
        "del ax"
      ]
    },
    {
      "cell_type": "markdown",
      "metadata": {
        "id": "nzL41c4hX-vG"
      },
      "source": [
        "If we want to visualise the same information considering percentages instead of value counts, we need to add the condition: `density = True` within our histogram plot. [See more information](https://seaborn.pydata.org/)"
      ]
    },
    {
      "cell_type": "code",
      "execution_count": null,
      "metadata": {
        "id": "PCFrGrhDX-vG"
      },
      "outputs": [],
      "source": [
        "# Plotting all the continuous/numeric variables of our dataset, regarding 'readmission' - PERCENTAGES\n",
        "\n",
        "sns.set(style=\"ticks\", font_scale=1.3)\n",
        "g = sns.FacetGrid(hospital_plot, col='cols', hue=\"readmission\", palette=pal, legend_out=False, sharex=False, sharey=False, col_wrap=4)\n",
        "g = (g.map(plt.hist, \"vals\", alpha=0.8, density=True).add_legend())    # Adding density=True\n",
        "g.fig.set_size_inches(17,10)\n",
        "\n",
        "## Adding the legend to each plot\n",
        "for ax in g.axes.ravel():\n",
        "    ax.legend(title=\"Readmission\")   \n",
        "\n",
        "del g\n",
        "del ax"
      ]
    },
    {
      "cell_type": "markdown",
      "metadata": {
        "id": "XBhX06VzX-vH"
      },
      "source": [
        "#### Density plots of continuous variables regarding 'readmission'"
      ]
    },
    {
      "cell_type": "code",
      "execution_count": null,
      "metadata": {
        "id": "0D1FqUgjX-vH"
      },
      "outputs": [],
      "source": [
        "sns.set(style=\"ticks\", font_scale=1.3)\n",
        "pal = dict(yes=\"coral\", no=\"steelblue\")   # Palette of colours\n",
        "\n",
        "# Plotting all the continuous/numeric variables of our dataset, regarding 'readmission'\n",
        "p = sns.FacetGrid(hospital_plot, col='cols', hue=\"readmission\", palette=pal, legend_out=False, sharex=False, sharey=False, col_wrap=4)\n",
        "p = (p.map(sns.kdeplot, \"vals\", alpha=0.6, shade=True, bw=1.5).add_legend())\n",
        "p.fig.set_size_inches(17,11)\n",
        "\n",
        "# Adding the legend to each plot\n",
        "for ax in p.axes.ravel():\n",
        "    ax.legend(title=\"Readmission\")  \n",
        "\n",
        "del p\n",
        "del ax "
      ]
    },
    {
      "cell_type": "markdown",
      "metadata": {
        "id": "ssP_NlkDX-vH"
      },
      "source": [
        "#### **Lets create box plots to visualise the same variables by readmission**\n"
      ]
    },
    {
      "cell_type": "code",
      "execution_count": null,
      "metadata": {
        "id": "dPte3fM9X-vI"
      },
      "outputs": [],
      "source": [
        "# Box plot of all the continuous/numeric variables regarding 'readmissions'\n",
        "sns.set(style=\"ticks\", font_scale=1.3)\n",
        "p = sns.axisgrid.FacetGrid(hospital_plot, col='cols', palette=pal, sharey=False, col_wrap=4)\n",
        "p = (p.map(sns.boxplot, 'readmission','vals', palette=pal, notch=True))\n",
        "p.fig.set_size_inches(15,9)\n",
        "\n",
        "del p"
      ]
    },
    {
      "cell_type": "markdown",
      "metadata": {
        "id": "VIGZt2K_X-vI"
      },
      "source": [
        "<div class=\"alert alert-block alert-success\">**Start Activity**</div>"
      ]
    },
    {
      "cell_type": "markdown",
      "metadata": {
        "id": "6Gi5C6ODX-vI"
      },
      "source": [
        "### <font color='brown'> Question 3: Can you describe the differences of each continuous numeric variable with respect to the readmission variable? Type your answer in the space provided below.  </font>"
      ]
    },
    {
      "cell_type": "markdown",
      "metadata": {
        "id": "q2ijcEAkX-vI"
      },
      "source": [
        "<b> Write the answer here:</b>\n",
        "#####################################################################################################################\n",
        "\n",
        "(Double-click here)\n",
        "\n",
        "#####################################################################################################################"
      ]
    },
    {
      "cell_type": "markdown",
      "metadata": {
        "id": "VUYdfZjOX-vJ"
      },
      "source": [
        "<div class=\"alert alert-block alert-warning\">**End Activity**</div>"
      ]
    },
    {
      "cell_type": "markdown",
      "metadata": {
        "id": "pZK2Duz1X-vJ"
      },
      "source": [
        "### 6.5.2 Categorical variables by readmission: \n",
        " \n",
        "Let's plot **some** of the categorical variables recorded in our dataset, focusing on our output: 'readmission'. In this case, we will use **bar plots** instead of histograms. A histogram shows the distribution of a continuous numeric variable by grouping ranges of the data into bins. Bar charts plot categorical data.\n",
        "\n",
        "For this, we will use another technique to visualise data in Python. We will use a **machine learning library** that contains the syntax to plot stacked percentage bar graphs of the categorical variables regarding the outcome (readmission). \n",
        "\n",
        "In our case, the name of this library is **'Library_Stacked_Percent_Plot'**. \n",
        "\n",
        "Please make sure to have installed the last version of 'matplotlib' to be able to run this part of the Jupyter notebook.\n",
        "\n",
        "In this case, we are going to download this library and copy it in the Google Drive, inside the folder /HDAT9500/week01/, that is, the project path we created above. You can place it in another folder if you prefer so, but make the notebook knows where to look when importing the py module."
      ]
    },
    {
      "cell_type": "code",
      "source": [
        "project_path"
      ],
      "metadata": {
        "id": "Xdcijbd-3ivn"
      },
      "execution_count": null,
      "outputs": []
    },
    {
      "cell_type": "code",
      "source": [
        "%cd /content/drive/MyDrive/HDAT9500/week01"
      ],
      "metadata": {
        "id": "kDsbb-_uuWhN"
      },
      "execution_count": null,
      "outputs": []
    },
    {
      "cell_type": "markdown",
      "source": [
        "Download the library `Library_Stacked_Percent_Plot.py` and save it inside your Google Drive. Check with the `ls` instruction that the library is indeed in the path/folder you think it is."
      ],
      "metadata": {
        "id": "w9AQNxok0S3I"
      }
    },
    {
      "cell_type": "code",
      "source": [
        "!ls"
      ],
      "metadata": {
        "id": "ZCMagN0au7yj"
      },
      "execution_count": null,
      "outputs": []
    },
    {
      "cell_type": "code",
      "source": [
        "import Library_Stacked_Percent_Plot"
      ],
      "metadata": {
        "id": "j4QmD2Xn4RYA"
      },
      "execution_count": null,
      "outputs": []
    },
    {
      "cell_type": "markdown",
      "source": [
        ""
      ],
      "metadata": {
        "id": "KvGGsaQV0qbu"
      }
    },
    {
      "cell_type": "markdown",
      "source": [
        ""
      ],
      "metadata": {
        "id": "IZnu-SjhuVo2"
      }
    },
    {
      "cell_type": "code",
      "execution_count": null,
      "metadata": {
        "id": "FZZNlyWoX-vK"
      },
      "outputs": [],
      "source": [
        "# Selecting the categorical variables we want to plot\n",
        "cat_features = ['sex','weight','payer_code','A1Cresult','max_glu_serum','group_name_1','group_name_2','group_name_3']\n",
        "\n",
        "# Set as categorical features as category data types\n",
        "for feature in cat_features:\n",
        "    hospital[feature] = hospital[feature].astype('category')\n",
        "\n",
        "del feature"
      ]
    },
    {
      "cell_type": "code",
      "execution_count": null,
      "metadata": {
        "id": "cb8A4legX-vL"
      },
      "outputs": [],
      "source": [
        "# Plot the frequency percentages in a stacked bar chart\n",
        "Library_Stacked_Percent_Plot.stacked_percent_bar(cat_features, hospital)"
      ]
    },
    {
      "cell_type": "markdown",
      "metadata": {
        "id": "xF7bpimOX-vL"
      },
      "source": [
        "As we see, there are no inconsistencies regarding the 'sex', 'max_glu_serum', 'A1Cresult' and 'group_name_1' to 'group_name_3' variables. However, the variables 'weight' and 'payer_code' have some misclassified records ('?'). In the next section, we will analyse how many missing values have our features in order to make decisions regarding the data cleaning process."
      ]
    },
    {
      "cell_type": "markdown",
      "metadata": {
        "id": "DkJGdlm6X-vM"
      },
      "source": [
        "<div class=\"alert alert-block alert-success\">**Start Activity**</div>"
      ]
    },
    {
      "cell_type": "markdown",
      "metadata": {
        "id": "Lbo2DTrJX-vM"
      },
      "source": [
        "### <font color='brown'> Question 4: Can you create bar plots for 'admission_type_id_cat', 'discharge_disposition_id_cat' and 'admission_source_id_cat' by readmission? Please provide a brief comment of your results. Type your answer in the space provided below.  </font>\n",
        "\n",
        "<p><font color='green'> Tip: You can use the library already created in the previous step. \n",
        "    </font></p>\n",
        "    \n",
        "<p><font color='green'> Please see the Data Dictionary to better understand the categories of these three variables: data/diabetes/Data_Dictionary.pdf \n",
        "    </font></p>\n",
        "\n",
        "#### <p><font color='green'> Note: We will use dictionary mapping to group these three variables in Chapter 02 – Exercise 01\n"
      ]
    },
    {
      "cell_type": "code",
      "execution_count": null,
      "metadata": {
        "id": "TaR2kg7IX-vM"
      },
      "outputs": [],
      "source": [
        "# Write your Python code here:\n",
        "\n",
        "# Selecting the categorical variables we want to plot\n",
        "cat_features_2 ="
      ]
    },
    {
      "cell_type": "code",
      "execution_count": null,
      "metadata": {
        "id": "ip3Y1zBeX-vN"
      },
      "outputs": [],
      "source": [
        "# Write your Python code here:\n"
      ]
    },
    {
      "cell_type": "markdown",
      "metadata": {
        "id": "vWhCOIzRX-vN"
      },
      "source": [
        "<b> Write the answer here:</b>\n",
        "#####################################################################################################################\n",
        "\n",
        "(Double-click here)\n",
        "\n",
        "#####################################################################################################################"
      ]
    },
    {
      "cell_type": "markdown",
      "metadata": {
        "id": "qvqTjGh8X-vN"
      },
      "source": [
        "<div class=\"alert alert-block alert-warning\">**End Activity**</div>"
      ]
    },
    {
      "cell_type": "markdown",
      "metadata": {
        "id": "c8l0e88jX-vO"
      },
      "source": [
        "### 6.5.3 Check 'Null' and 'Not null' values per column/feature\n",
        "\n",
        "We can see the records of our features by using the command: **`DataFrame.feature.value_counts()`**. However, we can instantly see how many missing, null or not null values have our variables: \n",
        "\n",
        "1. First, we have to replace the value \"?\" that in our dataset means missing by \"NAN\" (not a number). \n",
        "2. We check if the features are null (`isnull()`). This function will give us 1=TRUE or 0=FALSE. \n",
        "3. We then sum all the \"1s\" to check how many missing values we have.  The sum is done along the \"axis=0\". That means, summing all the rows."
      ]
    },
    {
      "cell_type": "markdown",
      "metadata": {
        "id": "jt0g_-XJX-vO"
      },
      "source": [
        "**First, we check for null values in our dataset.** "
      ]
    },
    {
      "cell_type": "code",
      "execution_count": null,
      "metadata": {
        "id": "pgJKnYBoX-vP"
      },
      "outputs": [],
      "source": [
        "# Total number of null records of our dataset\n",
        "print(\"Total number of null records: \", hospital.isnull().values.sum())\n",
        "\n",
        "# Null values of all our features\n",
        "print(hospital.isnull().sum())"
      ]
    },
    {
      "cell_type": "markdown",
      "metadata": {
        "id": "P42XntT-X-vQ"
      },
      "source": [
        "We can see that the variables 'weight', 'payer_code' and 'medical_specialty' have 0 missing records. However, we could visualise that these variables have misclassified records ('?'). Thus, we will follow the steps mentioned above to replace the value '?' to NAN."
      ]
    },
    {
      "cell_type": "markdown",
      "metadata": {
        "id": "zWdXQOy9X-vQ"
      },
      "source": [
        "**Let's transform the values '?' to NAN for ALL the variables of our dataset and store it in a temporal dataset**: \n",
        "We create a temporary data set, 'hosp_temp', where we will have the data with the transformation of ? to NaN. "
      ]
    },
    {
      "cell_type": "code",
      "execution_count": null,
      "metadata": {
        "id": "fw5927XUX-vS"
      },
      "outputs": [],
      "source": [
        "# Create a temporary data set, 'hosp_temp', where we will have the data with the transformation of ? to NAN\n",
        "hosp_temp = hospital.replace('?', np.nan) "
      ]
    },
    {
      "cell_type": "markdown",
      "metadata": {
        "id": "-OsSMlHHX-vT"
      },
      "source": [
        "<div class=\"alert alert-block alert-success\">**Start Activity**</div>"
      ]
    },
    {
      "cell_type": "markdown",
      "metadata": {
        "id": "xItoAwHLX-vT"
      },
      "source": [
        "### <font color='brown'> Question 5: Check for null values in our transformed dataset (hosp_temp). Please briefly comment your results. Type your answer in the space provided below.  </font>"
      ]
    },
    {
      "cell_type": "code",
      "execution_count": null,
      "metadata": {
        "id": "lFwqHYz-X-vU"
      },
      "outputs": [],
      "source": [
        "# Write solution here:\n"
      ]
    },
    {
      "cell_type": "markdown",
      "metadata": {
        "id": "WscmasqhX-vU"
      },
      "source": [
        "<b> Write the answer here:</b>\n",
        "#####################################################################################################################\n",
        "\n",
        "(Double-click here)\n",
        "\n",
        "#####################################################################################################################"
      ]
    },
    {
      "cell_type": "markdown",
      "metadata": {
        "id": "xudBcezAX-vU"
      },
      "source": [
        "<div class=\"alert alert-block alert-warning\">**End Activity**</div>"
      ]
    },
    {
      "cell_type": "markdown",
      "metadata": {
        "id": "N8CkpXGnX-vU"
      },
      "source": [
        "<div class=\"alert alert-block alert-success\">**Start Activity**</div>"
      ]
    },
    {
      "cell_type": "markdown",
      "metadata": {
        "id": "PdlWIT85X-vV"
      },
      "source": [
        "### <font color='brown'> Question 6: Based on the visualisations and analysis of missing or null values, would you delete any features? If yes, which ones?</font>"
      ]
    },
    {
      "cell_type": "markdown",
      "metadata": {
        "id": "UMVFxketX-vV"
      },
      "source": [
        "<b> Write the answer here:</b>\n",
        "#####################################################################################################################\n",
        "\n",
        "(Double-click here)\n",
        "\n",
        "\n",
        "#####################################################################################################################"
      ]
    },
    {
      "cell_type": "markdown",
      "metadata": {
        "id": "D5pw9youX-vW"
      },
      "source": [
        "We create a new dataset named hospital_clean from the original dataset (hospital).\n",
        "Delete the columns that you consider should be removed from the list below.\n",
        "Let's see assume that we are going to delete the variable \"weight\" since the number of NaN values is more than 50%, and their distribution is very similar for readmission \"yes\" and \"no\". "
      ]
    },
    {
      "cell_type": "code",
      "execution_count": null,
      "metadata": {
        "id": "1XVagsInX-ve"
      },
      "outputs": [],
      "source": [
        "hospital_clean = hospital.drop(['weight'], axis=1)"
      ]
    },
    {
      "cell_type": "code",
      "execution_count": null,
      "metadata": {
        "id": "9nNiTz7CX-vf",
        "scrolled": true
      },
      "outputs": [],
      "source": [
        "#Sanity check:\n",
        "print(\"Keys of hospital data: {}\".format(hospital_clean.keys()))"
      ]
    },
    {
      "cell_type": "code",
      "execution_count": null,
      "metadata": {
        "id": "7TJpJkrHX-vh"
      },
      "outputs": [],
      "source": [
        "#Sanity check:\n",
        "print(hospital_clean.shape)"
      ]
    },
    {
      "cell_type": "markdown",
      "metadata": {
        "id": "yRFl87rqX-vh"
      },
      "source": [
        "<div class=\"alert alert-block alert-warning\">**End Activity**</div>"
      ]
    },
    {
      "cell_type": "markdown",
      "metadata": {
        "id": "jHbaUCGRX-vh"
      },
      "source": [
        "### 6.5.4 Saving our new cleaned dataset with dummy variables using 'pickle'.\n",
        "\n",
        "We will save our dataset by using 'pickle'. Pickle is used to store python objects (lists, dictionaries, dataframe) in a file that we can call or load after. In our case, we will store our dataset in pickle and load it in the following exercises of this an other Chapters. \n",
        "\n",
        "First, we will open a file that we will call **'hospital.pickle'**. Then, we will use `pickle.dump()` to put the dataset into the opened file, then close. [Mode information](https://docs.python.org/3/library/pickle.html)"
      ]
    },
    {
      "cell_type": "markdown",
      "metadata": {
        "id": "C1EIj_P-shHT"
      },
      "source": [
        "If you are running this notebook in Google Colab, you must define your project paths. In this case, define your `pickle_path`. Otherwise, the piclke will be deteled after the session finishes."
      ]
    },
    {
      "cell_type": "code",
      "execution_count": null,
      "metadata": {
        "id": "0RDs1W8cX-vi"
      },
      "outputs": [],
      "source": [
        "import pickle\n",
        "pickle_path = Path(project_path) /'hospital.pickle' # 'hospital.pickle' will be our final file\n",
        "\n",
        "with open(pickle_path, 'wb') as output:  \n",
        "    pickle.dump(hospital_clean, output) "
      ]
    },
    {
      "cell_type": "markdown",
      "metadata": {
        "id": "q1I2S1UeX-vi"
      },
      "source": [
        "**Note:** If we want to load our dataset back, we can use the following script. We will use this code in the following exercise (no need to use it in this exercise)."
      ]
    },
    {
      "cell_type": "code",
      "execution_count": null,
      "metadata": {
        "id": "t9DXC_Y7X-vi"
      },
      "outputs": [],
      "source": [
        "# import pickle\n",
        "\n",
        "# with open(pickle_path, 'rb') as data:\n",
        "#    hospital = pickle.load(data)"
      ]
    },
    {
      "cell_type": "markdown",
      "metadata": {
        "id": "Ivjbn-ptshHU"
      },
      "source": [
        "© 2022 Copyright The University of New South Wales - CRICOS 00098G"
      ]
    }
  ],
  "metadata": {
    "colab": {
      "collapsed_sections": [
        "upOyT2_7X-u4",
        "xItoAwHLX-vT"
      ],
      "name": "Week-01-Exercise01.ipynb",
      "provenance": [],
      "toc_visible": true,
      "include_colab_link": true
    },
    "interpreter": {
      "hash": "aee8b7b246df8f9039afb4144a1f6fd8d2ca17a180786b69acc140d282b71a49"
    },
    "kernelspec": {
      "display_name": "Python 3",
      "language": "python",
      "name": "python3"
    },
    "language_info": {
      "codemirror_mode": {
        "name": "ipython",
        "version": 3
      },
      "file_extension": ".py",
      "mimetype": "text/x-python",
      "name": "python",
      "nbconvert_exporter": "python",
      "pygments_lexer": "ipython3",
      "version": "3.7.4"
    },
    "toc": {
      "base_numbering": 1,
      "nav_menu": {},
      "number_sections": false,
      "sideBar": true,
      "skip_h1_title": false,
      "title_cell": "Table of Contents",
      "title_sidebar": "Contents",
      "toc_cell": false,
      "toc_position": {
        "height": "calc(100% - 180px)",
        "left": "10px",
        "top": "150px",
        "width": "421.2px"
      },
      "toc_section_display": true,
      "toc_window_display": true
    }
  },
  "nbformat": 4,
  "nbformat_minor": 0
}